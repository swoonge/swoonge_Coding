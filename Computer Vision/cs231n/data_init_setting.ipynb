{
 "cells": [
  {
   "cell_type": "code",
   "execution_count": null,
   "metadata": {},
   "outputs": [],
   "source": [
    "%cd /home/vision/swoong/vision_practice/cs231n/assignment1/cs231n/datasets/\n",
    "print(\"-----------data for assignment download start-----------\")\n",
    "!bash get_datasets.sh\n",
    "\n",
    "%cd /home/vision/swoong/vision_practice/cs231n/assignment2/cs231n/datasets/\n",
    "!bash get_datasets.sh\n",
    "\n",
    "%cd /home/vision/swoong/vision_practice/cs231n/assignment3/cs231n/datasets/\n",
    "!bash get_datasets.sh\n",
    "\n",
    "print(\"-----------total process complete-----------\")"
   ]
  }
 ],
 "metadata": {
  "kernelspec": {
   "display_name": "Python 3.9.15 ('gigi')",
   "language": "python",
   "name": "python3"
  },
  "language_info": {
   "codemirror_mode": {
    "name": "ipython",
    "version": 3
   },
   "file_extension": ".py",
   "mimetype": "text/x-python",
   "name": "python",
   "nbconvert_exporter": "python",
   "pygments_lexer": "ipython3",
   "version": "3.9.15"
  },
  "vscode": {
   "interpreter": {
    "hash": "bd8d7f71e2b4c8d6795f1e2f8b5634cf7d781ae40a192a5a23a371f235c47a91"
   }
  }
 },
 "nbformat": 4,
 "nbformat_minor": 2
}

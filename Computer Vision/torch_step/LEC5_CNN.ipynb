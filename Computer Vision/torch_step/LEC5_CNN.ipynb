{
 "cells": [
  {
   "cell_type": "markdown",
   "metadata": {},
   "source": [
    "CNN신경망"
   ]
  },
  {
   "cell_type": "code",
   "execution_count": 2,
   "metadata": {},
   "outputs": [],
   "source": [
    "import torch\n",
    "import torch.nn as nn\n",
    "import torch.optim as optim\n",
    "import torch.nn.init as init\n",
    "\n",
    "# 추가적인 모듈\n",
    "import torchvision.datasets as dset # vision 데이터를 읽어오는 역할\n",
    "import torchvision.transforms as transforms # 이미지를 필요에 따라 변환해주는 역할을 하는 모듈\n",
    "from torch.utils.data import DataLoader # Data의 batch size 설정 및 random하게 섞기 등을 해주는 모듈"
   ]
  },
  {
   "cell_type": "code",
   "execution_count": 27,
   "metadata": {},
   "outputs": [],
   "source": [
    "# 하이퍼 파라미터\n",
    "batch_size = 256 * 2\n",
    "learning_rate = 0.0002\n",
    "num_epoch = 10"
   ]
  },
  {
   "cell_type": "code",
   "execution_count": 19,
   "metadata": {},
   "outputs": [],
   "source": [
    "# dset.MNIST(\"./\", train=True(train, test 데이터 중에 무얼 가져올지, transform=transforms.ToTensor(), target_transform=None -> 각각 데이터와 라벨의 변형에 관련, download=True)\n",
    "mnist_train = dset.MNIST(\"./\", train=True, transform=transforms.ToTensor(), target_transform=None, download=True)\n",
    "mnist_test = dset.MNIST(\"./\", train=False, transform=transforms.ToTensor(), target_transform=None, download=True)\n",
    "\n",
    "# DataLoader(mnist_train, batch_size=batch_size, shuffle=True, num_workers=2(데이터를 묶을 때 사용할 프로세스 개수), drop_last=True(묶고 남는 데이터를 버릴지 말지))\n",
    "train_loader = DataLoader(mnist_train, batch_size=batch_size, shuffle=True, num_workers=2, drop_last=True)\n",
    "test_loader = DataLoader(mnist_test, batch_size=batch_size, shuffle=False, num_workers=2, drop_last=True)"
   ]
  },
  {
   "cell_type": "code",
   "execution_count": 20,
   "metadata": {},
   "outputs": [],
   "source": [
    "class CNN(nn.Module):\n",
    "    def __init__(self) -> None:\n",
    "        super().__init__() # CNN class의 부모클래스인 nn.Module을 초기화하는 역할\n",
    "        self.layer = nn.Sequential(\n",
    "            nn.Conv2d(1, 16, 5), # (input channels, output channels, kernel size) -> 1dim(gray img)의 28X28 이미지가 batch size 개수만큼 들어오고, 16개의 5X5 kernel을 거쳐 24X24X16 차원의 layer가 됨\n",
    "            nn.ReLU(),\n",
    "            nn.Conv2d(16, 32, 5), # -> [20 X 20 X 32] 크기의 layer\n",
    "            nn.ReLU(),\n",
    "            nn.MaxPool2d(2, 2), # -> [10 X 10 X 32] 크기의 layer\n",
    "            nn.Conv2d(32, 64, 5), # -> [6 X 6 X 64] 크기의 layer\n",
    "            nn.ReLU(),\n",
    "            nn.MaxPool2d(2, 2) # -> [3 X 3 X 64] 크기의 layer\n",
    "        )\n",
    "        self.fc_layer = nn.Sequential(\n",
    "            nn.Linear(64 * 3 * 3, 100),\n",
    "            nn.ReLU(),\n",
    "            nn.Linear(100, 10)\n",
    "        )\n",
    "    \n",
    "    def forward(self, x):\n",
    "        out = self.layer(x)\n",
    "        out = out.reshape(batch_size, -1) # batch_size개수의 차원에, -1은 -1인 부분의 차원을 알아서 적당히 하라는 뜻. 즉, 이렇게 하면 각 이미지를 1차원으로 flatten한 것과 같은 결과를 가짐\n",
    "        out = self.fc_layer(out)\n",
    "        return out\n"
   ]
  },
  {
   "cell_type": "code",
   "execution_count": 24,
   "metadata": {},
   "outputs": [],
   "source": [
    "device = torch.device(\"cuda:0\" if torch.cuda.is_available() else \"cpu\")\n",
    "model = CNN().to(device)\n",
    "loss_func = nn.CrossEntropyLoss()\n",
    "optimizer = torch.optim.Adam(model.parameters(), lr=learning_rate)\n"
   ]
  },
  {
   "cell_type": "code",
   "execution_count": 28,
   "metadata": {},
   "outputs": [
    {
     "name": "stdout",
     "output_type": "stream",
     "text": [
      "tensor(0.0003, device='cuda:0', grad_fn=<NllLossBackward0>)\n",
      "tensor(7.5200e-05, device='cuda:0', grad_fn=<NllLossBackward0>)\n",
      "tensor(0.0005, device='cuda:0', grad_fn=<NllLossBackward0>)\n",
      "tensor(0.0001, device='cuda:0', grad_fn=<NllLossBackward0>)\n",
      "tensor(0.0002, device='cuda:0', grad_fn=<NllLossBackward0>)\n",
      "tensor(0.0003, device='cuda:0', grad_fn=<NllLossBackward0>)\n",
      "tensor(9.9753e-05, device='cuda:0', grad_fn=<NllLossBackward0>)\n",
      "tensor(0.0001, device='cuda:0', grad_fn=<NllLossBackward0>)\n",
      "tensor(0.0002, device='cuda:0', grad_fn=<NllLossBackward0>)\n",
      "tensor(0.0002, device='cuda:0', grad_fn=<NllLossBackward0>)\n",
      "tensor(0.0001, device='cuda:0', grad_fn=<NllLossBackward0>)\n",
      "tensor(0.0001, device='cuda:0', grad_fn=<NllLossBackward0>)\n",
      "tensor(0.0001, device='cuda:0', grad_fn=<NllLossBackward0>)\n",
      "tensor(9.6144e-05, device='cuda:0', grad_fn=<NllLossBackward0>)\n",
      "tensor(0.0003, device='cuda:0', grad_fn=<NllLossBackward0>)\n",
      "tensor(0.0001, device='cuda:0', grad_fn=<NllLossBackward0>)\n",
      "tensor(0.0001, device='cuda:0', grad_fn=<NllLossBackward0>)\n",
      "tensor(0.0001, device='cuda:0', grad_fn=<NllLossBackward0>)\n",
      "tensor(0.0003, device='cuda:0', grad_fn=<NllLossBackward0>)\n",
      "tensor(0.0001, device='cuda:0', grad_fn=<NllLossBackward0>)\n",
      "tensor(0.0001, device='cuda:0', grad_fn=<NllLossBackward0>)\n",
      "tensor(0.0001, device='cuda:0', grad_fn=<NllLossBackward0>)\n",
      "tensor(0.0001, device='cuda:0', grad_fn=<NllLossBackward0>)\n",
      "tensor(0.0002, device='cuda:0', grad_fn=<NllLossBackward0>)\n",
      "tensor(0.0002, device='cuda:0', grad_fn=<NllLossBackward0>)\n",
      "tensor(0.0002, device='cuda:0', grad_fn=<NllLossBackward0>)\n",
      "tensor(0.0002, device='cuda:0', grad_fn=<NllLossBackward0>)\n",
      "tensor(0.0002, device='cuda:0', grad_fn=<NllLossBackward0>)\n",
      "tensor(0.0002, device='cuda:0', grad_fn=<NllLossBackward0>)\n",
      "tensor(3.7676e-05, device='cuda:0', grad_fn=<NllLossBackward0>)\n",
      "tensor(8.2206e-05, device='cuda:0', grad_fn=<NllLossBackward0>)\n",
      "tensor(0.0002, device='cuda:0', grad_fn=<NllLossBackward0>)\n",
      "tensor(6.2712e-05, device='cuda:0', grad_fn=<NllLossBackward0>)\n",
      "tensor(0.0005, device='cuda:0', grad_fn=<NllLossBackward0>)\n",
      "tensor(0.0001, device='cuda:0', grad_fn=<NllLossBackward0>)\n",
      "tensor(0.0003, device='cuda:0', grad_fn=<NllLossBackward0>)\n",
      "tensor(0.0005, device='cuda:0', grad_fn=<NllLossBackward0>)\n",
      "tensor(0.0001, device='cuda:0', grad_fn=<NllLossBackward0>)\n",
      "tensor(0.0001, device='cuda:0', grad_fn=<NllLossBackward0>)\n",
      "tensor(0.0003, device='cuda:0', grad_fn=<NllLossBackward0>)\n",
      "tensor(0.0001, device='cuda:0', grad_fn=<NllLossBackward0>)\n",
      "tensor(7.4779e-05, device='cuda:0', grad_fn=<NllLossBackward0>)\n",
      "tensor(0.0002, device='cuda:0', grad_fn=<NllLossBackward0>)\n",
      "tensor(0.0001, device='cuda:0', grad_fn=<NllLossBackward0>)\n",
      "tensor(0.0002, device='cuda:0', grad_fn=<NllLossBackward0>)\n",
      "tensor(0.0002, device='cuda:0', grad_fn=<NllLossBackward0>)\n",
      "tensor(0.0002, device='cuda:0', grad_fn=<NllLossBackward0>)\n",
      "tensor(0.0002, device='cuda:0', grad_fn=<NllLossBackward0>)\n",
      "tensor(4.6560e-05, device='cuda:0', grad_fn=<NllLossBackward0>)\n",
      "tensor(0.0001, device='cuda:0', grad_fn=<NllLossBackward0>)\n",
      "tensor(5.0707e-05, device='cuda:0', grad_fn=<NllLossBackward0>)\n",
      "tensor(0.0001, device='cuda:0', grad_fn=<NllLossBackward0>)\n",
      "tensor(0.0001, device='cuda:0', grad_fn=<NllLossBackward0>)\n",
      "tensor(9.2281e-05, device='cuda:0', grad_fn=<NllLossBackward0>)\n",
      "tensor(0.0004, device='cuda:0', grad_fn=<NllLossBackward0>)\n",
      "tensor(0.0003, device='cuda:0', grad_fn=<NllLossBackward0>)\n",
      "tensor(0.0003, device='cuda:0', grad_fn=<NllLossBackward0>)\n",
      "tensor(0.0003, device='cuda:0', grad_fn=<NllLossBackward0>)\n",
      "tensor(0.0012, device='cuda:0', grad_fn=<NllLossBackward0>)\n",
      "tensor(0.0009, device='cuda:0', grad_fn=<NllLossBackward0>)\n",
      "tensor(0.0007, device='cuda:0', grad_fn=<NllLossBackward0>)\n",
      "tensor(0.0045, device='cuda:0', grad_fn=<NllLossBackward0>)\n",
      "tensor(0.0126, device='cuda:0', grad_fn=<NllLossBackward0>)\n",
      "tensor(0.0007, device='cuda:0', grad_fn=<NllLossBackward0>)\n",
      "tensor(0.0008, device='cuda:0', grad_fn=<NllLossBackward0>)\n",
      "tensor(0.0134, device='cuda:0', grad_fn=<NllLossBackward0>)\n",
      "tensor(0.0159, device='cuda:0', grad_fn=<NllLossBackward0>)\n",
      "tensor(0.0345, device='cuda:0', grad_fn=<NllLossBackward0>)\n",
      "tensor(0.0044, device='cuda:0', grad_fn=<NllLossBackward0>)\n",
      "tensor(0.0089, device='cuda:0', grad_fn=<NllLossBackward0>)\n",
      "tensor(0.0060, device='cuda:0', grad_fn=<NllLossBackward0>)\n",
      "tensor(0.0034, device='cuda:0', grad_fn=<NllLossBackward0>)\n",
      "tensor(0.0024, device='cuda:0', grad_fn=<NllLossBackward0>)\n",
      "tensor(0.0047, device='cuda:0', grad_fn=<NllLossBackward0>)\n",
      "tensor(0.0005, device='cuda:0', grad_fn=<NllLossBackward0>)\n",
      "tensor(0.0019, device='cuda:0', grad_fn=<NllLossBackward0>)\n",
      "tensor(0.0017, device='cuda:0', grad_fn=<NllLossBackward0>)\n",
      "tensor(0.0005, device='cuda:0', grad_fn=<NllLossBackward0>)\n",
      "tensor(0.0020, device='cuda:0', grad_fn=<NllLossBackward0>)\n",
      "tensor(0.0002, device='cuda:0', grad_fn=<NllLossBackward0>)\n",
      "tensor(0.0015, device='cuda:0', grad_fn=<NllLossBackward0>)\n",
      "tensor(0.0001, device='cuda:0', grad_fn=<NllLossBackward0>)\n",
      "tensor(0.0010, device='cuda:0', grad_fn=<NllLossBackward0>)\n",
      "tensor(0.0008, device='cuda:0', grad_fn=<NllLossBackward0>)\n",
      "tensor(0.0017, device='cuda:0', grad_fn=<NllLossBackward0>)\n",
      "tensor(0.0006, device='cuda:0', grad_fn=<NllLossBackward0>)\n",
      "tensor(0.0080, device='cuda:0', grad_fn=<NllLossBackward0>)\n",
      "tensor(0.0009, device='cuda:0', grad_fn=<NllLossBackward0>)\n",
      "tensor(0.0006, device='cuda:0', grad_fn=<NllLossBackward0>)\n",
      "tensor(0.0016, device='cuda:0', grad_fn=<NllLossBackward0>)\n",
      "tensor(0.0003, device='cuda:0', grad_fn=<NllLossBackward0>)\n",
      "tensor(0.0003, device='cuda:0', grad_fn=<NllLossBackward0>)\n",
      "tensor(0.0005, device='cuda:0', grad_fn=<NllLossBackward0>)\n",
      "tensor(0.0005, device='cuda:0', grad_fn=<NllLossBackward0>)\n",
      "tensor(0.0009, device='cuda:0', grad_fn=<NllLossBackward0>)\n",
      "tensor(0.0011, device='cuda:0', grad_fn=<NllLossBackward0>)\n",
      "tensor(0.0060, device='cuda:0', grad_fn=<NllLossBackward0>)\n",
      "tensor(0.0002, device='cuda:0', grad_fn=<NllLossBackward0>)\n",
      "tensor(0.0005, device='cuda:0', grad_fn=<NllLossBackward0>)\n",
      "tensor(0.0002, device='cuda:0', grad_fn=<NllLossBackward0>)\n",
      "tensor(0.0004, device='cuda:0', grad_fn=<NllLossBackward0>)\n",
      "tensor(0.0003, device='cuda:0', grad_fn=<NllLossBackward0>)\n",
      "tensor(0.0004, device='cuda:0', grad_fn=<NllLossBackward0>)\n",
      "tensor(0.0004, device='cuda:0', grad_fn=<NllLossBackward0>)\n",
      "tensor(0.0007, device='cuda:0', grad_fn=<NllLossBackward0>)\n",
      "tensor(0.0003, device='cuda:0', grad_fn=<NllLossBackward0>)\n",
      "tensor(0.0003, device='cuda:0', grad_fn=<NllLossBackward0>)\n",
      "tensor(8.8981e-05, device='cuda:0', grad_fn=<NllLossBackward0>)\n",
      "tensor(0.0002, device='cuda:0', grad_fn=<NllLossBackward0>)\n",
      "tensor(0.0003, device='cuda:0', grad_fn=<NllLossBackward0>)\n",
      "tensor(0.0001, device='cuda:0', grad_fn=<NllLossBackward0>)\n",
      "tensor(0.0002, device='cuda:0', grad_fn=<NllLossBackward0>)\n",
      "tensor(0.0001, device='cuda:0', grad_fn=<NllLossBackward0>)\n",
      "tensor(0.0002, device='cuda:0', grad_fn=<NllLossBackward0>)\n",
      "tensor(7.6352e-05, device='cuda:0', grad_fn=<NllLossBackward0>)\n",
      "tensor(0.0003, device='cuda:0', grad_fn=<NllLossBackward0>)\n",
      "tensor(0.0002, device='cuda:0', grad_fn=<NllLossBackward0>)\n",
      "tensor(0.0004, device='cuda:0', grad_fn=<NllLossBackward0>)\n",
      "tensor(0.0003, device='cuda:0', grad_fn=<NllLossBackward0>)\n",
      "tensor(0.0001, device='cuda:0', grad_fn=<NllLossBackward0>)\n"
     ]
    }
   ],
   "source": [
    "loss_array = []\n",
    "for i in range(num_epoch):\n",
    "    for j, [img, label] in enumerate(train_loader):\n",
    "        x = img.to(device)\n",
    "        y_ = label.to(device)\n",
    "\n",
    "        optimizer.zero_grad()\n",
    "        output = model.forward(x)\n",
    "        loss = loss_func(output, y_)\n",
    "        loss.backward()\n",
    "        optimizer.step()\n",
    "\n",
    "        if j % 10 == 0:\n",
    "            print(loss)\n",
    "            loss_array.append(loss.cpu().detach().numpy())"
   ]
  },
  {
   "cell_type": "code",
   "execution_count": 16,
   "metadata": {},
   "outputs": [
    {
     "data": {
      "image/png": "[encoded data removed]",
      "text/plain": [
       "<Figure size 640x480 with 1 Axes>"
      ]
     },
     "metadata": {},
     "output_type": "display_data"
    }
   ],
   "source": [
    "import matplotlib.pyplot as plt\n",
    "plt.plot(loss_array)\n",
    "plt.show()\n",
    "1 3 5 7 9 11 13 15 17 19 21 23 25 27 29 31 1/2"
   ]
  },
  {
   "cell_type": "code",
   "execution_count": 31,
   "metadata": {},
   "outputs": [
    {
     "name": "stdout",
     "output_type": "stream",
     "text": [
      "Accuracy of Test Data: 99.05427551269531\n"
     ]
    }
   ],
   "source": [
    "correct = 0\n",
    "total = 0\n",
    "\n",
    "with torch.no_grad():\n",
    "    for img, label in test_loader:\n",
    "        x = img.to(device)\n",
    "        y_ = label.to(device)\n",
    "\n",
    "        output = model.forward(x)\n",
    "        _, output_index = torch.max(output, 1)\n",
    "\n",
    "        total += label.size(0)\n",
    "        correct += (output_index == y_).sum().float()\n",
    "\n",
    "    print(\"Accuracy of Test Data: {}\".format(100*correct/total))"
   ]
  }
 ],
 "metadata": {
  "kernelspec": {
   "display_name": "Python 3.9.16 ('py39')",
   "language": "python",
   "name": "python3"
  },
  "language_info": {
   "codemirror_mode": {
    "name": "ipython",
    "version": 3
   },
   "file_extension": ".py",
   "mimetype": "text/x-python",
   "name": "python",
   "nbconvert_exporter": "python",
   "pygments_lexer": "ipython3",
   "version": "3.9.16"
  },
  "orig_nbformat": 4,
  "vscode": {
   "interpreter": {
    "hash": "e7350abcaff91871cc2fda5041ddf4038d94572c9fca8856fb0fc40a5853d68d"
   }
  }
 },
 "nbformat": 4,
 "nbformat_minor": 2
}

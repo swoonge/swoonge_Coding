{
 "cells": [
  {
   "cell_type": "markdown",
   "metadata": {},
   "source": [
    "CNN신경망"
   ]
  },
  {
   "cell_type": "code",
   "execution_count": 1,
   "metadata": {},
   "outputs": [
    {
     "name": "stderr",
     "output_type": "stream",
     "text": [
      "/home/vision/anaconda3/envs/py39/lib/python3.9/site-packages/tqdm/auto.py:22: TqdmWarning: IProgress not found. Please update jupyter and ipywidgets. See https://ipywidgets.readthedocs.io/en/stable/user_install.html\n",
      "  from .autonotebook import tqdm as notebook_tqdm\n"
     ]
    }
   ],
   "source": [
    "import torch\n",
    "import torch.nn as nn\n",
    "import torch.optim as optim\n",
    "import torch.nn.init as init\n",
    "\n",
    "import scipy\n",
    "\n",
    "# 추가적인 모듈\n",
    "import torchvision.datasets as dset # vision 데이터를 읽어오는 역할\n",
    "import torchvision.transforms as transforms # 이미지를 필요에 따라 변환해주는 역할을 하는 모듈\n",
    "from torch.utils.data import DataLoader # Data의 batch size 설정 및 random하게 섞기 등을 해주는 모듈"
   ]
  },
  {
   "cell_type": "code",
   "execution_count": 2,
   "metadata": {},
   "outputs": [],
   "source": [
    "batch_size = 256\n",
    "learning_rate = 0.0002\n",
    "num_epoch = 30"
   ]
  },
  {
   "cell_type": "code",
   "execution_count": 15,
   "metadata": {},
   "outputs": [],
   "source": [
    "def conv_2_block(in_dim, out_dim) -> nn.Sequential():\n",
    "    model = nn.Sequential(\n",
    "        nn.Conv2d(in_dim, out_dim, kernel_size = 3, padding = 1),\n",
    "        nn.BatchNorm2d(out_dim),\n",
    "        nn.ReLU(),\n",
    "        nn.Conv2d(out_dim, out_dim, kernel_size = 3, padding = 1),\n",
    "        nn.BatchNorm2d(out_dim),\n",
    "        nn.ReLU(),\n",
    "        nn.MaxPool2d(2, 2)\n",
    "    )\n",
    "    return model\n",
    "\n",
    "def conv_3_block(in_dim, out_dim):\n",
    "    model = nn.Sequential(\n",
    "        nn.Conv2d(in_dim, out_dim, kernel_size = 3, padding = 1),\n",
    "        nn.BatchNorm2d(out_dim),\n",
    "        nn.ReLU(),\n",
    "        nn.Conv2d(out_dim, out_dim, kernel_size = 3, padding = 1),\n",
    "        nn.BatchNorm2d(out_dim),\n",
    "        nn.ReLU(),\n",
    "        nn.Conv2d(out_dim, out_dim, kernel_size = 3, padding = 1),\n",
    "        nn.BatchNorm2d(out_dim),\n",
    "        nn.ReLU(),\n",
    "        nn.MaxPool2d(2, 2)\n",
    "    )\n",
    "    return model"
   ]
  },
  {
   "cell_type": "code",
   "execution_count": 16,
   "metadata": {},
   "outputs": [],
   "source": [
    "class VGG16(nn.Module):\n",
    "    def __init__(self, base_dim, num_classes = 1000) -> None:\n",
    "        super(VGG16, self).__init__()\n",
    "        self.avgpool = nn.AdaptiveAvgPool2d((7, 7))\n",
    "        self.feature = nn.Sequential(\n",
    "            conv_2_block(3, base_dim),\n",
    "            conv_2_block(base_dim, 2*base_dim),\n",
    "            conv_3_block(2*base_dim, 4*base_dim),\n",
    "            conv_3_block(4*base_dim, 8*base_dim),\n",
    "            conv_3_block(8*base_dim, 8*base_dim)\n",
    "        )\n",
    "        self.classifier = nn.Sequential(\n",
    "            nn.Linear(8*base_dim * 7 * 7, 100),\n",
    "            nn.ReLU(True),\n",
    "            nn.Linear(100, 20),\n",
    "            nn.ReLU(True),\n",
    "            nn.Linear(20, num_classes)\n",
    "        )\n",
    "\n",
    "    def forward(self, x) -> torch.Tensor: \n",
    "        x = self.feature(x)\n",
    "        x = self.avgpool(x)\n",
    "        x = torch.flatten(x, 1)\n",
    "        x = self.classifier(x)\n",
    "        return x\n"
   ]
  },
  {
   "cell_type": "code",
   "execution_count": 17,
   "metadata": {},
   "outputs": [
    {
     "name": "stdout",
     "output_type": "stream",
     "text": [
      "Files already downloaded and verified\n",
      "Files already downloaded and verified\n"
     ]
    }
   ],
   "source": [
    "CIFAR10_train=dset.CIFAR10(\"../DataSets/\", train=True, transform=transforms.ToTensor(), target_transform=None, download=True)\n",
    "CIFAR10_test=dset.CIFAR10(\"../DataSets/\", train=False, transform=transforms.ToTensor(), target_transform=None, download=True)"
   ]
  },
  {
   "cell_type": "code",
   "execution_count": 18,
   "metadata": {},
   "outputs": [],
   "source": [
    "train_loader = DataLoader(CIFAR10_train, batch_size=batch_size, shuffle=True, num_workers=8, drop_last=True)\n",
    "test_loader = DataLoader(CIFAR10_test, batch_size=batch_size, shuffle=True, num_workers=8, drop_last=True)"
   ]
  },
  {
   "cell_type": "code",
   "execution_count": 19,
   "metadata": {},
   "outputs": [],
   "source": [
    "device=torch.device(\"cuda:0\" if torch.cuda.is_available() else \"cpu\")\n",
    "model=VGG16(num_classes=100, base_dim=32).to(device=device)\n",
    "loss_func=nn.CrossEntropyLoss()\n",
    "optimizer=optim.Adam(model.parameters(), lr=learning_rate)\n",
    "loss_array = []"
   ]
  },
  {
   "cell_type": "code",
   "execution_count": 20,
   "metadata": {},
   "outputs": [
    {
     "name": "stdout",
     "output_type": "stream",
     "text": [
      "epoch 0 is start\n",
      "tensor(4.0598, device='cuda:0', grad_fn=<NllLossBackward0>)\n",
      "epoch 1 is start\n",
      "tensor(3.6738, device='cuda:0', grad_fn=<NllLossBackward0>)\n",
      "epoch 2 is start\n",
      "tensor(3.4347, device='cuda:0', grad_fn=<NllLossBackward0>)\n",
      "epoch 3 is start\n",
      "tensor(3.1894, device='cuda:0', grad_fn=<NllLossBackward0>)\n",
      "epoch 4 is start\n",
      "tensor(2.8910, device='cuda:0', grad_fn=<NllLossBackward0>)\n",
      "epoch 5 is start\n",
      "tensor(2.5778, device='cuda:0', grad_fn=<NllLossBackward0>)\n",
      "epoch 6 is start\n",
      "tensor(2.4045, device='cuda:0', grad_fn=<NllLossBackward0>)\n",
      "epoch 7 is start\n",
      "tensor(2.2268, device='cuda:0', grad_fn=<NllLossBackward0>)\n",
      "epoch 8 is start\n",
      "tensor(1.8888, device='cuda:0', grad_fn=<NllLossBackward0>)\n",
      "epoch 9 is start\n",
      "tensor(1.8185, device='cuda:0', grad_fn=<NllLossBackward0>)\n",
      "epoch 10 is start\n",
      "tensor(1.5070, device='cuda:0', grad_fn=<NllLossBackward0>)\n",
      "epoch 11 is start\n",
      "tensor(1.3464, device='cuda:0', grad_fn=<NllLossBackward0>)\n",
      "epoch 12 is start\n",
      "tensor(1.1692, device='cuda:0', grad_fn=<NllLossBackward0>)\n",
      "epoch 13 is start\n",
      "tensor(1.1385, device='cuda:0', grad_fn=<NllLossBackward0>)\n",
      "epoch 14 is start\n",
      "tensor(0.8492, device='cuda:0', grad_fn=<NllLossBackward0>)\n",
      "epoch 15 is start\n",
      "tensor(0.7503, device='cuda:0', grad_fn=<NllLossBackward0>)\n",
      "epoch 16 is start\n",
      "tensor(0.6851, device='cuda:0', grad_fn=<NllLossBackward0>)\n",
      "epoch 17 is start\n",
      "tensor(0.5968, device='cuda:0', grad_fn=<NllLossBackward0>)\n",
      "epoch 18 is start\n",
      "tensor(0.4540, device='cuda:0', grad_fn=<NllLossBackward0>)\n",
      "epoch 19 is start\n",
      "tensor(0.3842, device='cuda:0', grad_fn=<NllLossBackward0>)\n",
      "epoch 20 is start\n",
      "tensor(0.2854, device='cuda:0', grad_fn=<NllLossBackward0>)\n",
      "epoch 21 is start\n",
      "tensor(0.2378, device='cuda:0', grad_fn=<NllLossBackward0>)\n",
      "epoch 22 is start\n",
      "tensor(0.2069, device='cuda:0', grad_fn=<NllLossBackward0>)\n",
      "epoch 23 is start\n",
      "tensor(0.1517, device='cuda:0', grad_fn=<NllLossBackward0>)\n",
      "epoch 24 is start\n",
      "tensor(0.1353, device='cuda:0', grad_fn=<NllLossBackward0>)\n",
      "epoch 25 is start\n",
      "tensor(0.1555, device='cuda:0', grad_fn=<NllLossBackward0>)\n",
      "epoch 26 is start\n",
      "tensor(0.1099, device='cuda:0', grad_fn=<NllLossBackward0>)\n",
      "epoch 27 is start\n",
      "tensor(0.0825, device='cuda:0', grad_fn=<NllLossBackward0>)\n",
      "epoch 28 is start\n",
      "tensor(0.0484, device='cuda:0', grad_fn=<NllLossBackward0>)\n",
      "epoch 29 is start\n",
      "tensor(0.0588, device='cuda:0', grad_fn=<NllLossBackward0>)\n"
     ]
    }
   ],
   "source": [
    "optimizer=optim.Adam(model.parameters(), lr=learning_rate/30)\n",
    "for i in range(num_epoch):\n",
    "    print(\"epoch\", i, \"is start\")\n",
    "    for j, [img, label] in enumerate(train_loader):\n",
    "        x = img.to(device)\n",
    "        y_ = label.to(device)\n",
    "\n",
    "        optimizer.zero_grad()\n",
    "        output= model.forward(x)\n",
    "        loss = loss_func(output, y_)\n",
    "        loss.backward()\n",
    "        optimizer.step()\n",
    "\n",
    "        if j % 100 == 0:\n",
    "            loss_array.append(loss.cpu().detach().numpy())\n",
    "    print(loss)"
   ]
  },
  {
   "cell_type": "code",
   "execution_count": 21,
   "metadata": {},
   "outputs": [
    {
     "data": {
      "image/png": "[encoded data removed]",
      "text/plain": [
       "<Figure size 640x480 with 1 Axes>"
      ]
     },
     "metadata": {},
     "output_type": "display_data"
    }
   ],
   "source": [
    "import matplotlib.pyplot as plt\n",
    "plt.plot(loss_array[:])\n",
    "plt.show()"
   ]
  },
  {
   "cell_type": "code",
   "execution_count": 22,
   "metadata": {},
   "outputs": [
    {
     "name": "stdout",
     "output_type": "stream",
     "text": [
      "Accuracy of Test Data: 45.055511474609375\n"
     ]
    }
   ],
   "source": [
    "correct = 0\n",
    "total = 0\n",
    "with torch.no_grad():\n",
    "    for img, label in test_loader:\n",
    "        x = img.to(device)\n",
    "        y_ = label.to(device)\n",
    "\n",
    "        output = model.forward(x)\n",
    "        _, output_index = torch.max(output, 1)\n",
    "\n",
    "        total += label.size(0)\n",
    "        correct += (output_index == y_).sum().float()\n",
    "\n",
    "    print(\"Accuracy of Test Data: {}\".format(100*correct/total))"
   ]
  },
  {
   "cell_type": "code",
   "execution_count": null,
   "metadata": {},
   "outputs": [],
   "source": []
  }
 ],
 "metadata": {
  "kernelspec": {
   "display_name": "Python 3.9.16 ('py39')",
   "language": "python",
   "name": "python3"
  },
  "language_info": {
   "codemirror_mode": {
    "name": "ipython",
    "version": 3
   },
   "file_extension": ".py",
   "mimetype": "text/x-python",
   "name": "python",
   "nbconvert_exporter": "python",
   "pygments_lexer": "ipython3",
   "version": "3.9.16"
  },
  "orig_nbformat": 4,
  "vscode": {
   "interpreter": {
    "hash": "e7350abcaff91871cc2fda5041ddf4038d94572c9fca8856fb0fc40a5853d68d"
   }
  }
 },
 "nbformat": 4,
 "nbformat_minor": 2
}

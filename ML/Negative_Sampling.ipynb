{
 "cells": [
  {
   "cell_type": "code",
   "execution_count": 2,
   "metadata": {},
   "outputs": [
    {
     "name": "stdout",
     "output_type": "stream",
     "text": [
      "[[0 0 0 0 0 0 0 0 1 0]\n",
      " [0 0 0 0 0 0 0 1 0 0]\n",
      " [0 0 0 0 1 0 0 0 0 0]]\n"
     ]
    }
   ],
   "source": [
    "import numpy as np\n",
    "\n",
    "# Let's assume we have some data\n",
    "data = np.array([\n",
    "    [0, 0, 0, 1, 0, 0, 0, 0, 0, 0],  # positive example\n",
    "    [0, 0, 0, 0, 0, 0, 0, 1, 0, 0],  # negative example\n",
    "    [0, 0, 0, 0, 0, 0, 0, 0, 1, 0],  # negative example\n",
    "    [0, 0, 0, 0, 0, 0, 1, 0, 0, 0],  # negative example\n",
    "    [0, 0, 0, 0, 0, 1, 0, 0, 0, 0],  # negative example\n",
    "    [0, 0, 0, 0, 1, 0, 0, 0, 0, 0],  # negative example\n",
    "    [0, 0, 1, 0, 0, 0, 0, 0, 0, 0],  # negative example\n",
    "    [0, 1, 0, 0, 0, 0, 0, 0, 0, 0],  # negative example\n",
    "    [1, 0, 0, 0, 0, 0, 0, 0, 0, 0],  # negative example\n",
    "])\n",
    "\n",
    "# We know that the positive class is the one where the 4th element is 1\n",
    "positive_class = np.array([0, 0, 0, 1, 0, 0, 0, 0, 0, 0])\n",
    "\n",
    "# We want to sample some negative examples\n",
    "num_negative_samples = 3\n",
    "\n",
    "# We create a mask that gives us the negative examples\n",
    "negative_mask = (data != positive_class).any(axis=1)\n",
    "\n",
    "# We use this mask to get the negative examples\n",
    "negative_examples = data[negative_mask]\n",
    "\n",
    "# We randomly sample from the negative examples\n",
    "negative_samples = negative_examples[np.random.choice(negative_examples.shape[0], num_negative_samples, replace=False)]\n",
    "\n",
    "print(negative_samples)\n"
   ]
  },
  {
   "cell_type": "code",
   "execution_count": 9,
   "metadata": {},
   "outputs": [
    {
     "data": {
      "text/plain": [
       "array([[0, 0, 0, 0, 0, 0, 0, 1, 0, 0],\n",
       "       [0, 0, 0, 0, 0, 0, 0, 0, 1, 0],\n",
       "       [0, 0, 0, 0, 0, 0, 1, 0, 0, 0],\n",
       "       [0, 0, 0, 0, 0, 1, 0, 0, 0, 0],\n",
       "       [0, 0, 0, 0, 1, 0, 0, 0, 0, 0],\n",
       "       [0, 0, 1, 0, 0, 0, 0, 0, 0, 0],\n",
       "       [0, 1, 0, 0, 0, 0, 0, 0, 0, 0],\n",
       "       [1, 0, 0, 0, 0, 0, 0, 0, 0, 0]])"
      ]
     },
     "execution_count": 9,
     "metadata": {},
     "output_type": "execute_result"
    }
   ],
   "source": [
    "\n",
    "negative_examples\n"
   ]
  },
  {
   "cell_type": "code",
   "execution_count": null,
   "metadata": {},
   "outputs": [],
   "source": []
  }
 ],
 "metadata": {
  "kernelspec": {
   "display_name": "bj",
   "language": "python",
   "name": "python3"
  },
  "language_info": {
   "name": "python",
   "version": "3.9.16"
  },
  "orig_nbformat": 4
 },
 "nbformat": 4,
 "nbformat_minor": 2
}

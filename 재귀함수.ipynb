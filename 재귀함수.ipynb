{
 "cells": [
  {
   "attachments": {},
   "cell_type": "markdown",
   "metadata": {},
   "source": [
    "팩토리얼 구현 예제"
   ]
  },
  {
   "cell_type": "code",
   "execution_count": 16,
   "metadata": {},
   "outputs": [
    {
     "name": "stdout",
     "output_type": "stream",
     "text": [
      "5 ! = 120\n"
     ]
    }
   ],
   "source": [
    "def factorial_iter(i, n):\n",
    "    if i >= n: # i가 n과 같아지면 i 반환후 재귀 종료\n",
    "        return i\n",
    "    return i * factorial_iter(i+1, n)\n",
    "    \n",
    "# n = int(input()) # n = n!\n",
    "print(n,'! =',factorial_iter(1, 5))\n"
   ]
  },
  {
   "cell_type": "code",
   "execution_count": 17,
   "metadata": {},
   "outputs": [
    {
     "name": "stdout",
     "output_type": "stream",
     "text": [
      "반복적으로 구현: 120\n"
     ]
    }
   ],
   "source": [
    "# 재귀적으로 구현한 n!\n",
    "def factorial_recursive(n):\n",
    "    if n <= 1: # n이 1 이하인 경우 1을 반환\n",
    "        return 1\n",
    "    # n! = n * (n-1)!를 그대로 코드로 작성하기\n",
    "    return n * factorial_recursive(n-1)\n",
    "\n",
    "# 각각의 방식으로 구현한 n! 출력(n=5)\n",
    "print('반복적으로 구현:', factorial_recursive(5))"
   ]
  },
  {
   "attachments": {},
   "cell_type": "markdown",
   "metadata": {},
   "source": [
    "최대공약수 계산(유클리드 호제법) 예제\n",
    "- 유클리드 호제법:\n",
    "두 자연수 A, B에 대해 (A > B) A를 B로 나눈 나머지를 R이라고 합시다.\n",
    "이때 A와 B의 최대공약수는 B와 R의 최대공약수와 같습니다.\n",
    "유클리드 호제법의 아이디어를 그대로 재귀 함수로 작성할 수 있습니다."
   ]
  },
  {
   "cell_type": "code",
   "execution_count": 18,
   "metadata": {},
   "outputs": [
    {
     "name": "stdout",
     "output_type": "stream",
     "text": [
      "192 와 162 의 최대공약수: 6\n"
     ]
    }
   ],
   "source": [
    "def gcd(a, b):\n",
    "    r = a % b\n",
    "    if r == 0:\n",
    "      return b\n",
    "    else:\n",
    "      return gcd(b,r)\n",
    "\n",
    "a = 192\n",
    "b = 162\n",
    "print(a, '와', b, '의 최대공약수:', gcd(a, b))"
   ]
  }
 ],
 "metadata": {
  "kernelspec": {
   "display_name": "bj",
   "language": "python",
   "name": "python3"
  },
  "language_info": {
   "codemirror_mode": {
    "name": "ipython",
    "version": 3
   },
   "file_extension": ".py",
   "mimetype": "text/x-python",
   "name": "python",
   "nbconvert_exporter": "python",
   "pygments_lexer": "ipython3",
   "version": "3.9.16"
  },
  "orig_nbformat": 4
 },
 "nbformat": 4,
 "nbformat_minor": 2
}

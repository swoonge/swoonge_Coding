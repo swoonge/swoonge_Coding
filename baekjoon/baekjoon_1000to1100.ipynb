{
 "cells": [
  {
   "attachments": {},
   "cell_type": "markdown",
   "metadata": {},
   "source": [
    "1002번: 터렛\n",
    "- 문제: 조규현과 백승환은 터렛에 근무하는 직원이다. 하지만 워낙 존재감이 없어서 인구수는 차지하지 않는다. 다음은 조규현과 백승환의 사진이다. 이석원은 조규현과 백승환에게 상대편 마린(류재명)의 위치를 계산하라는 명령을 내렸다. 조규현과 백승환은 각각 자신의 터렛 위치에서 현재 적까지의 거리를 계산했다.\n",
    "조규현의 좌표 (x1, y1)와 백승환의 좌표 (x2, y2)가 주어지고, 조규현이 계산한 류재명과의 거리 r1과 백승환이 계산한 류재명과의 거리 r2가 주어졌을 때, 류재명이 있을 수 있는 좌표의 수를 출력하는 프로그램을 작성하시오.\n",
    "\n",
    "- 입력: 첫째 줄에 테스트 케이스의 개수 T가 주어진다. 각 테스트 케이스는 다음과 같이 이루어져 있다.\n",
    "\n",
    "한 줄에 x1, y1, r1, x2, y2, r2가 주어진다. x1, y1, x2, y2는 -10,000보다 크거나 같고, 10,000보다 작거나 같은 정수이고, r1, r2는 10,000보다 작거나 같은 음이 아닌 정수이다.\n",
    "- 출력: 각 테스트 케이스마다 류재명이 있을 수 있는 위치의 수를 출력한다. 만약 류재명이 있을 수 있는 위치의 개수가 무한대일 경우에는 -1을 출력한다.\n",
    "- 예제 입력\n",
    "3\n",
    "0 0 13 40 0 37\n",
    "0 0 3 0 7 4\n",
    "1 1 1 1 1 5\n",
    "- 예제 출력\n",
    "2\n",
    "1\n",
    "0"
   ]
  },
  {
   "cell_type": "code",
   "execution_count": null,
   "metadata": {},
   "outputs": [],
   "source": [
    "data = [3, 0, 0, 13, 40, 0, 37, 0, 0, 3, 0, 7, 4, 1, 1, 1, 1, 1, 5]"
   ]
  },
  {
   "attachments": {},
   "cell_type": "markdown",
   "metadata": {},
   "source": [
    "내 제출본"
   ]
  },
  {
   "cell_type": "code",
   "execution_count": 5,
   "metadata": {},
   "outputs": [
    {
     "name": "stdout",
     "output_type": "stream",
     "text": [
      "-1\n"
     ]
    }
   ],
   "source": [
    "import math\n",
    "\n",
    "def cal_dist(x1, y1, x2, y2):\n",
    "    return math.sqrt((x2 - x1)**2 + (y2 - y1)**2)\n",
    "\n",
    "def count_tangent_points(dist, r1, r2):\n",
    "    if dist == 0:\n",
    "        if r1 == 0 and r2 == 0: return 1\n",
    "        elif r1 == r2: return -1\n",
    "        else: return 0\n",
    "    else:\n",
    "        if r1 == 0 and r2 == 0: return 0\n",
    "        if (dist == (r1 + r2)) or (dist == abs(r1 - r2)): return 1\n",
    "        elif (dist > abs(r1 - r2)) and (dist < (r1 + r2)): return 2\n",
    "        else: return 0\n",
    "\n",
    "def main():\n",
    "    seq = int(input())\n",
    "    for _ in range(seq):\n",
    "        x1, y1, r1, x2, y2, r2 = list(map(int, input().split()))\n",
    "        print(count_tangent_points(cal_dist(x1, y1, x2, y2), r1, r2))\n",
    "\n",
    "main()"
   ]
  },
  {
   "attachments": {},
   "cell_type": "markdown",
   "metadata": {},
   "source": [
    "1003\n",
    "https://www.acmicpc.net/problem/1003\n"
   ]
  },
  {
   "cell_type": "code",
   "execution_count": 34,
   "metadata": {},
   "outputs": [],
   "source": [
    "def fibonacci(n):\n",
    "    if n == 0:\n",
    "        print(0)\n",
    "        return 0\n",
    "    elif (n == 1):\n",
    "        print(1)\n",
    "        return 1\n",
    "    else:\n",
    "        return fibonacci(n - 1) + fibonacci(n - 2)"
   ]
  },
  {
   "cell_type": "code",
   "execution_count": 35,
   "metadata": {},
   "outputs": [
    {
     "name": "stdout",
     "output_type": "stream",
     "text": [
      "0 1\n",
      "1 1\n",
      "1 2\n",
      "2 3\n",
      "3 5\n",
      "5 8\n"
     ]
    }
   ],
   "source": [
    "# 코드\n",
    "seq = int(input())\n",
    "counts = [[1, 0],[0, 1]]\n",
    "\n",
    "def count_fibonacci(counts):\n",
    "    counts.append([counts[-1][0] + counts[-2][0], counts[-1][1] + counts[-2][1]])\n",
    "    return counts\n",
    "\n",
    "for _ in range(seq):\n",
    "    n = int(input())\n",
    "    while len(counts) <= n:\n",
    "        count_fibonacci(counts)\n",
    "    print(*counts[n])"
   ]
  },
  {
   "cell_type": "code",
   "execution_count": null,
   "metadata": {},
   "outputs": [],
   "source": [
    "# 숏코드\n",
    "c = [[1, 0],[0, 1]]\n",
    "for _ in range(int(input())):\n",
    "    n = int(input())\n",
    "    while len(c) <= n:\n",
    "        c.append([a + b for a, b in zip(c[-1], c[-2])])\n",
    "    print(*c[n])"
   ]
  },
  {
   "attachments": {},
   "cell_type": "markdown",
   "metadata": {},
   "source": [
    "2588번 https://www.acmicpc.net/problem/2588"
   ]
  },
  {
   "cell_type": "code",
   "execution_count": 47,
   "metadata": {},
   "outputs": [
    {
     "name": "stdout",
     "output_type": "stream",
     "text": [
      "2360\n",
      "3776\n",
      "1416\n",
      "181720\n"
     ]
    }
   ],
   "source": [
    "a = int(input())\n",
    "b = int(input())\n",
    "c = a * b\n",
    "while(b!=0):\n",
    "    print(a * (b%10))\n",
    "    b = b//10\n",
    "print(c)"
   ]
  }
 ],
 "metadata": {
  "kernelspec": {
   "display_name": "bj",
   "language": "python",
   "name": "python3"
  },
  "language_info": {
   "codemirror_mode": {
    "name": "ipython",
    "version": 3
   },
   "file_extension": ".py",
   "mimetype": "text/x-python",
   "name": "python",
   "nbconvert_exporter": "python",
   "pygments_lexer": "ipython3",
   "version": "3.9.16"
  },
  "orig_nbformat": 4
 },
 "nbformat": 4,
 "nbformat_minor": 2
}

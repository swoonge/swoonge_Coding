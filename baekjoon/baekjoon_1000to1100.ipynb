{
 "cells": [
  {
   "attachments": {},
   "cell_type": "markdown",
   "metadata": {},
   "source": [
    "1002번: 터렛\n",
    "- 문제: 조규현과 백승환은 터렛에 근무하는 직원이다. 하지만 워낙 존재감이 없어서 인구수는 차지하지 않는다. 다음은 조규현과 백승환의 사진이다. 이석원은 조규현과 백승환에게 상대편 마린(류재명)의 위치를 계산하라는 명령을 내렸다. 조규현과 백승환은 각각 자신의 터렛 위치에서 현재 적까지의 거리를 계산했다.\n",
    "조규현의 좌표 (x1, y1)와 백승환의 좌표 (x2, y2)가 주어지고, 조규현이 계산한 류재명과의 거리 r1과 백승환이 계산한 류재명과의 거리 r2가 주어졌을 때, 류재명이 있을 수 있는 좌표의 수를 출력하는 프로그램을 작성하시오.\n",
    "\n",
    "- 입력: 첫째 줄에 테스트 케이스의 개수 T가 주어진다. 각 테스트 케이스는 다음과 같이 이루어져 있다.\n",
    "\n",
    "한 줄에 x1, y1, r1, x2, y2, r2가 주어진다. x1, y1, x2, y2는 -10,000보다 크거나 같고, 10,000보다 작거나 같은 정수이고, r1, r2는 10,000보다 작거나 같은 음이 아닌 정수이다.\n",
    "- 출력: 각 테스트 케이스마다 류재명이 있을 수 있는 위치의 수를 출력한다. 만약 류재명이 있을 수 있는 위치의 개수가 무한대일 경우에는 -1을 출력한다.\n",
    "- 예제 입력\n",
    "3\n",
    "0 0 13 40 0 37\n",
    "0 0 3 0 7 4\n",
    "1 1 1 1 1 5\n",
    "- 예제 출력\n",
    "2\n",
    "1\n",
    "0"
   ]
  },
  {
   "cell_type": "code",
   "execution_count": 1,
   "metadata": {},
   "outputs": [],
   "source": [
    "data = [3, 0, 0, 13, 40, 0, 37, 0, 0, 3, 0, 7, 4, 1, 1, 1, 1, 1, 5]"
   ]
  },
  {
   "cell_type": "code",
   "execution_count": null,
   "metadata": {},
   "outputs": [],
   "source": [
    "import sys\n",
    "sys.setrecursionlimit(10**7)\n",
    "input = sys.stdin.readline\n",
    "\n",
    "# # 데이타 입력\n",
    "seq = map(int, input().split())\n",
    "test_case = []\n",
    "\n",
    "for _ in range(seq):\n",
    "    a, b, c, d, e, f = map(int, input().split())\n",
    "    test_case.append([a, b, c, d, e, f])\n",
    "\n",
    "# # 거리 함수\n",
    "def cal_dist(x1,y1,x2,y2):\n",
    "    dist = (x1-x2)\n",
    "\n",
    "    return dist\n",
    "\n",
    "# # 각 케이스들 마다 입력 후 출력\n",
    "for cas in test_case:\n",
    "    dist = cas[0]\n",
    "    # 거리 크면 0 출력\n",
    "    if cas[0]: print(0)\n",
    "    cas\n",
    "\n",
    "    print()\n",
    "\n",
    "\n",
    "\n"
   ]
  },
  {
   "attachments": {},
   "cell_type": "markdown",
   "metadata": {},
   "source": [
    "내 제출본"
   ]
  },
  {
   "cell_type": "code",
   "execution_count": 2,
   "metadata": {},
   "outputs": [
    {
     "ename": "KeyboardInterrupt",
     "evalue": "",
     "output_type": "error",
     "traceback": [
      "\u001b[0;31m---------------------------------------------------------------------------\u001b[0m",
      "\u001b[0;31mKeyboardInterrupt\u001b[0m                         Traceback (most recent call last)",
      "Cell \u001b[0;32mIn[2], line 5\u001b[0m\n\u001b[1;32m      2\u001b[0m sys\u001b[39m.\u001b[39msetrecursionlimit(\u001b[39m10\u001b[39m\u001b[39m*\u001b[39m\u001b[39m*\u001b[39m\u001b[39m7\u001b[39m)\n\u001b[1;32m      3\u001b[0m \u001b[39minput\u001b[39m \u001b[39m=\u001b[39m sys\u001b[39m.\u001b[39mstdin\u001b[39m.\u001b[39mreadline\n\u001b[0;32m----> 5\u001b[0m n, l \u001b[39m=\u001b[39m \u001b[39mmap\u001b[39m(\u001b[39mint\u001b[39m, \u001b[39minput\u001b[39;49m()\u001b[39m.\u001b[39msplit())\n",
      "\u001b[0;31mKeyboardInterrupt\u001b[0m: "
     ]
    }
   ],
   "source": [
    "import sys\n",
    "sys.setrecursionlimit(10**7)\n",
    "input = sys.stdin.readline\n",
    "\n",
    "n, l = map(int, input().split())"
   ]
  },
  {
   "cell_type": "code",
   "execution_count": null,
   "metadata": {},
   "outputs": [],
   "source": [
    "import sys\n",
    "sys.setrecursionlimit(10**7)\n",
    "input = sys.stdin.readline\n",
    "\n",
    "n, l = map(int, input().split())\n",
    "\n",
    "aMatrix = [[False for _ in range(n+1)] for _ in range(n+1)]\n",
    "visited = [False] * (n+1)\n",
    "visited[0] = True\n",
    "\n",
    "for _ in range(l):\n",
    "    u, v = map(int, input().split())\n",
    "    aMatrix[u][v] = True\n",
    "    aMatrix[v][u] = True\n",
    "            \n",
    "def dfs(cNode, visited, aMatrix):\n",
    "    visited[cNode] = True\n",
    "    for idx, i in enumerate(aMatrix[cNode]):\n",
    "        if (i == True) and (not visited[idx]):\n",
    "            dfs(idx, visited, aMatrix)\n",
    "\n",
    "count = 0\n",
    "\n",
    "while (False in visited):\n",
    "    dfs(visited.index(False), visited, aMatrix)\n",
    "    count += 1\n",
    "\n",
    "print(count)"
   ]
  }
 ],
 "metadata": {
  "kernelspec": {
   "display_name": "bj",
   "language": "python",
   "name": "python3"
  },
  "language_info": {
   "codemirror_mode": {
    "name": "ipython",
    "version": 3
   },
   "file_extension": ".py",
   "mimetype": "text/x-python",
   "name": "python",
   "nbconvert_exporter": "python",
   "pygments_lexer": "ipython3",
   "version": "3.9.16"
  },
  "orig_nbformat": 4
 },
 "nbformat": 4,
 "nbformat_minor": 2
}

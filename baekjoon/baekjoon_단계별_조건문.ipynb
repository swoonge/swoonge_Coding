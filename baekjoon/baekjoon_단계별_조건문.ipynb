{
 "cells": [
  {
   "attachments": {},
   "cell_type": "markdown",
   "metadata": {},
   "source": [
    "https://www.acmicpc.net/step/4"
   ]
  },
  {
   "cell_type": "code",
   "execution_count": 2,
   "metadata": {},
   "outputs": [
    {
     "name": "stdout",
     "output_type": "stream",
     "text": [
      ">\n"
     ]
    }
   ],
   "source": [
    "# 1330: 두 수 비교하기\n",
    "a, b = map(int, input().split())\n",
    "if a > b: print(\">\")\n",
    "elif a < b: print(\"<\")\n",
    "else: print(\"==\")"
   ]
  },
  {
   "cell_type": "code",
   "execution_count": 5,
   "metadata": {},
   "outputs": [
    {
     "name": "stdout",
     "output_type": "stream",
     "text": [
      "B\n"
     ]
    }
   ],
   "source": [
    "# 9490: 시험 성적\n",
    "score = int(input())\n",
    "if 90 <= score and 100 >= score: print(\"A\")\n",
    "elif 80 <= score and 90 > score: print(\"B\")\n",
    "elif 70 <= score and 80 > score: print(\"C\")\n",
    "elif 60 <= score and 70 > score: print(\"D\")\n",
    "else: print(\"F\")"
   ]
  },
  {
   "cell_type": "code",
   "execution_count": 8,
   "metadata": {},
   "outputs": [
    {
     "name": "stdout",
     "output_type": "stream",
     "text": [
      "0\n"
     ]
    }
   ],
   "source": [
    "# 2753: 윤년\n",
    "year = int(input())\n",
    "print(1 if ((year % 4 == 0) and (year % 100 != 0)) or (year % 400 == 0) else 0)"
   ]
  },
  {
   "cell_type": "code",
   "execution_count": 12,
   "metadata": {},
   "outputs": [
    {
     "name": "stdout",
     "output_type": "stream",
     "text": [
      "1\n"
     ]
    }
   ],
   "source": [
    "# 14681: 사분면 고르기\n",
    "x = int(input())\n",
    "y = int(input())\n",
    "if x >= 0: print(1 if y >= 0 else 4)\n",
    "else: print(2 if y >= 0 else 3)"
   ]
  },
  {
   "cell_type": "code",
   "execution_count": 21,
   "metadata": {},
   "outputs": [
    {
     "name": "stdout",
     "output_type": "stream",
     "text": [
      "22 55\n"
     ]
    }
   ],
   "source": [
    "# 2884: 알람시계\n",
    "h, m = map(int, input().split())\n",
    "m -= 45\n",
    "if m < 0:\n",
    "    m = 60 + m\n",
    "    h = 23 if h == 0 else h - 1\n",
    "print(h, m)"
   ]
  },
  {
   "cell_type": "code",
   "execution_count": 27,
   "metadata": {},
   "outputs": [
    {
     "name": "stdout",
     "output_type": "stream",
     "text": [
      "0 13\n"
     ]
    }
   ],
   "source": [
    "# 2525: 오븐시계\n",
    "h, m = map(int, input().split())\n",
    "t = int(input())\n",
    "m += t\n",
    "while m >= 60:\n",
    "    m -= 60\n",
    "    h = 0 if h == 23 else h + 1\n",
    "print(h, m)"
   ]
  },
  {
   "cell_type": "code",
   "execution_count": 54,
   "metadata": {},
   "outputs": [
    {
     "name": "stdout",
     "output_type": "stream",
     "text": [
      "1400\n"
     ]
    }
   ],
   "source": [
    "# 2480: 주사위 세개\n",
    "dice = list(map(int, input().split()))\n",
    "dice_set = set(dice)\n",
    "if len(dice_set) == 3:\n",
    "    print(max(dice) * 100)\n",
    "elif len(dice_set) == 2:\n",
    "    while(True):\n",
    "        d = dice_set.pop()\n",
    "        if dice.count(d) == 2:\n",
    "            print(1000 + d * 100)\n",
    "            break\n",
    "else:\n",
    "    print(10000 + dice_set.pop() * 1000)"
   ]
  }
 ],
 "metadata": {
  "kernelspec": {
   "display_name": "bj",
   "language": "python",
   "name": "python3"
  },
  "language_info": {
   "codemirror_mode": {
    "name": "ipython",
    "version": 3
   },
   "file_extension": ".py",
   "mimetype": "text/x-python",
   "name": "python",
   "nbconvert_exporter": "python",
   "pygments_lexer": "ipython3",
   "version": "3.9.16"
  },
  "orig_nbformat": 4
 },
 "nbformat": 4,
 "nbformat_minor": 2
}

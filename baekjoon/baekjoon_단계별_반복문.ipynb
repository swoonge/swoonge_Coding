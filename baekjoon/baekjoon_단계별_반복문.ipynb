{
 "cells": [
  {
   "attachments": {},
   "cell_type": "markdown",
   "metadata": {},
   "source": [
    "https://www.acmicpc.net/step/3"
   ]
  },
  {
   "cell_type": "code",
   "execution_count": 7,
   "metadata": {},
   "outputs": [
    {
     "name": "stdout",
     "output_type": "stream",
     "text": [
      "4 * 1 = 4\n",
      "4 * 2 = 8\n",
      "4 * 3 = 12\n",
      "4 * 4 = 16\n",
      "4 * 5 = 20\n",
      "4 * 6 = 24\n",
      "4 * 7 = 28\n",
      "4 * 8 = 32\n",
      "4 * 9 = 36\n"
     ]
    }
   ],
   "source": [
    "# 2739: 구구단\n",
    "n = int(input())\n",
    "for i in range(1, 10): print(n , \"*\" , i ,\"=\" , n * i)"
   ]
  },
  {
   "cell_type": "code",
   "execution_count": 16,
   "metadata": {},
   "outputs": [
    {
     "name": "stdout",
     "output_type": "stream",
     "text": [
      "2\n",
      "5\n"
     ]
    }
   ],
   "source": [
    "# 10950: A + b - 3\n",
    "for i in range(int(input())):\n",
    "    print(sum(list(map(int, input().split()))))"
   ]
  },
  {
   "cell_type": "code",
   "execution_count": 20,
   "metadata": {},
   "outputs": [
    {
     "name": "stdout",
     "output_type": "stream",
     "text": [
      "6\n"
     ]
    }
   ],
   "source": [
    "# 8393: 합\n",
    "print(sum(range(int(input())+1)))"
   ]
  },
  {
   "cell_type": "code",
   "execution_count": 25,
   "metadata": {},
   "outputs": [
    {
     "name": "stdout",
     "output_type": "stream",
     "text": [
      "yes\n"
     ]
    }
   ],
   "source": [
    "#25304: 영수증\n",
    "total = int(input())\n",
    "n = int(input())\n",
    "while(n != 0):\n",
    "    m, c = map(int, input().split())\n",
    "    total -= m*c\n",
    "    n -= 1\n",
    "print(\"Yes\" if total == 0 else \"No\")\n"
   ]
  },
  {
   "cell_type": "code",
   "execution_count": 29,
   "metadata": {},
   "outputs": [
    {
     "name": "stdout",
     "output_type": "stream",
     "text": [
      "long long long long long int\n"
     ]
    }
   ],
   "source": [
    "# 25314: 코딩은 체육과목 입니다\n",
    "n = int(input())\n",
    "while(n != 0):\n",
    "    print(\"long \", end=\"\")\n",
    "    n -= 4\n",
    "print(\"int\")"
   ]
  },
  {
   "cell_type": "code",
   "execution_count": null,
   "metadata": {},
   "outputs": [],
   "source": [
    "# 15552: 빠른 A + B\n",
    "import sys\n",
    "input = sys.stdin.readline\n",
    "t = int(input())\n",
    "while(t != 0):\n",
    "    a, b = map(int, input().split())\n",
    "    print(a + b)\n",
    "    t -= 1\n",
    "\n",
    "###\n",
    "# 아래 결과 시간 초과\n",
    "t = int(input())\n",
    "while(t != 0):\n",
    "    a, b = map(int, input().split())\n",
    "    print(a + b)\n",
    "    t -= 1"
   ]
  },
  {
   "cell_type": "code",
   "execution_count": 46,
   "metadata": {},
   "outputs": [
    {
     "name": "stdout",
     "output_type": "stream",
     "text": [
      "Case #1: 2\n",
      "Case #2: 5\n"
     ]
    }
   ],
   "source": [
    "# 11021: A + b - 7\n",
    "import sys\n",
    "input = sys.stdin.readline\n",
    "for i in range(1, int(input())+1):\n",
    "    a, b = map(int, input().split())\n",
    "    print('Case #{}: {}'.format(i, a + b))"
   ]
  },
  {
   "cell_type": "code",
   "execution_count": null,
   "metadata": {},
   "outputs": [],
   "source": [
    "# 11022: A + b - 7\n",
    "import sys\n",
    "input = sys.stdin.readline\n",
    "for i in range(1, int(input())+1):\n",
    "    a, b = map(int, input().split())\n",
    "    print('Case #{}: {} + {} = {}'.format(i, a, b, a + b))"
   ]
  },
  {
   "cell_type": "code",
   "execution_count": 50,
   "metadata": {},
   "outputs": [
    {
     "name": "stdout",
     "output_type": "stream",
     "text": [
      "*\n",
      "**\n",
      "***\n",
      "****\n",
      "*****\n"
     ]
    }
   ],
   "source": [
    "# 2438: 별 찍기 - 1\n",
    "n = int(input())\n",
    "for i in range(1, n+1):print(\"*\"*i)"
   ]
  },
  {
   "cell_type": "code",
   "execution_count": 52,
   "metadata": {},
   "outputs": [
    {
     "name": "stdout",
     "output_type": "stream",
     "text": [
      "   *\n",
      "  **\n",
      " ***\n",
      "****\n"
     ]
    }
   ],
   "source": [
    "# 2439: 별 찍기 - 2\n",
    "n = int(input())\n",
    "for i in range(1, n+1):\n",
    "    print(\" \"*(n-i) + \"*\"*i)"
   ]
  },
  {
   "cell_type": "code",
   "execution_count": null,
   "metadata": {},
   "outputs": [],
   "source": [
    "# 10952: A+B - 5\n",
    "import sys\n",
    "input = sys.stdin.readline\n",
    "while(True):\n",
    "    a, b = map(int, input().split())\n",
    "    if a == 0 and b == 0: break\n",
    "    print(a + b)"
   ]
  },
  {
   "cell_type": "code",
   "execution_count": 2,
   "metadata": {},
   "outputs": [
    {
     "name": "stdout",
     "output_type": "stream",
     "text": [
      "2\n",
      "4\n"
     ]
    }
   ],
   "source": [
    "# 10951: A+B - 4\n",
    "while(True):\n",
    "    try:\n",
    "        a, b = map(int, input().split())\n",
    "        print(a + b)\n",
    "    except:\n",
    "        break"
   ]
  }
 ],
 "metadata": {
  "kernelspec": {
   "display_name": "bj",
   "language": "python",
   "name": "python3"
  },
  "language_info": {
   "codemirror_mode": {
    "name": "ipython",
    "version": 3
   },
   "file_extension": ".py",
   "mimetype": "text/x-python",
   "name": "python",
   "nbconvert_exporter": "python",
   "pygments_lexer": "ipython3",
   "version": "3.9.16"
  },
  "orig_nbformat": 4
 },
 "nbformat": 4,
 "nbformat_minor": 2
}

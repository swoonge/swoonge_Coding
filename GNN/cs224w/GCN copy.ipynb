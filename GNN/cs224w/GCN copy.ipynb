{
  "cells": [
    {
      "cell_type": "code",
      "execution_count": 1,
      "metadata": {},
      "outputs": [
        {
          "name": "stderr",
          "output_type": "stream",
          "text": [
            "Downloading https://www.chrsmrrs.com/graphkerneldatasets/ENZYMES.zip\n"
          ]
        },
        {
          "name": "stdout",
          "output_type": "stream",
          "text": [
            "ENZYMES(600)\n"
          ]
        },
        {
          "name": "stderr",
          "output_type": "stream",
          "text": [
            "Extracting dataset/enzymes/ENZYMES/ENZYMES.zip\n",
            "Processing...\n",
            "Done!\n"
          ]
        }
      ],
      "source": [
        "import torch\n",
        "import torch.nn as tnn\n",
        "import torch_geometric.nn as gnn\n",
        "from torch_geometric.datasets import KarateClub, TUDataset\n",
        "import torch.nn.functional as F\n",
        "import matplotlib.pyplot as plt\n",
        "import numpy as np\n",
        "\n",
        "root = './dataset/enzymes'\n",
        "name = 'ENZYMES'\n",
        "\n",
        "# The ENZYMES dataset\n",
        "pyg_dataset= TUDataset('./dataset/enzymes', 'ENZYMES')\n",
        "# You can find that there are 600 graphs in this dataset\n",
        "print(pyg_dataset)\n",
        "\n",
        "# Load the Karate Club dataset\n",
        "dataset = KarateClub()\n",
        "data = dataset[0]  # Get the first graph object"
      ]
    },
    {
      "cell_type": "code",
      "execution_count": 2,
      "metadata": {},
      "outputs": [],
      "source": [
        "class GCN_sq(torch.nn.Module):\n",
        "    def __init__(self):\n",
        "        super(GCN, self).__init__()\n",
        "        \n",
        "        self.GCN_layers = gnn.Sequential('x, edge_index', [\n",
        "            (gnn.GCNConv(dataset.num_features, 16), 'x, edge_index -> x'),\n",
        "            (F.relu, 'x -> x'),\n",
        "            (F.dropout, 'x -> x'),\n",
        "            (gnn.GCNConv(16, dataset.num_classes), 'x, edge_index -> x')\n",
        "        ])\n",
        "\n",
        "    def forward(self, data):\n",
        "        x, edge_index = data.x, data.edge_index\n",
        "        x = self.GCN_layers(x, edge_index)\n",
        "        return F.log_softmax(x, dim=1)\n",
        "    \n",
        "class GCN(torch.nn.Module):\n",
        "    def __init__(self):\n",
        "        super(GCN, self).__init__()\n",
        "        self.conv1 = gnn.GCNConv(dataset.num_features, 16)\n",
        "        self.conv2 = gnn.GCNConv(16, 32)\n",
        "        self.mlp1 = tnn.Linear(32, 16)\n",
        "        self.mlp2 = tnn.Linear(16, dataset.num_classes)\n",
        "\n",
        "    def forward(self, data):\n",
        "        x, edge_index = data.x, data.edge_index\n",
        "\n",
        "        x = self.conv1(x, edge_index)\n",
        "        x = F.relu(x)\n",
        "        x = F.dropout(x, p=0.2, training=self.training)\n",
        "\n",
        "        x = self.conv2(x, edge_index)\n",
        "        x = F.relu(x)\n",
        "        x = F.dropout(x, p=0.2, training=self.training)\n",
        "\n",
        "        x = self.mlp1(x)\n",
        "        x = F.relu(x)\n",
        "        x = self.mlp2(x)\n",
        "\n",
        "        return F.log_softmax(x, dim=1)"
      ]
    },
    {
      "cell_type": "code",
      "execution_count": 10,
      "metadata": {},
      "outputs": [],
      "source": [
        "device = torch.device(\"cuda:0\" if torch.cuda.is_available() else \"cpu\")\n",
        "# device = torch.device(\"cpu\")\n",
        "# Instantiate the model and optimizer\n",
        "model = GCN().to(device)\n",
        "\n",
        "optimizer = torch.optim.Adam(model.parameters(), lr=0.01, weight_decay=5e-4)"
      ]
    },
    {
      "cell_type": "code",
      "execution_count": 23,
      "metadata": {},
      "outputs": [],
      "source": [
        "# Training loop\n",
        "model.train()\n",
        "data.to(device)\n",
        "for epoch in range(100000):\n",
        "    optimizer.zero_grad()\n",
        "    out = model.forward(data)\n",
        "    loss = torch.nn.functional.nll_loss(out[data.train_mask], data.y[data.train_mask])\n",
        "    loss.backward()\n",
        "    optimizer.step()"
      ]
    },
    {
      "cell_type": "code",
      "execution_count": 26,
      "metadata": {},
      "outputs": [
        {
          "name": "stdout",
          "output_type": "stream",
          "text": [
            "Accuracy: 0.5882\n"
          ]
        },
        {
          "data": {
            "image/png": "[encoded data removed]",
            "text/plain": [
              "<Figure size 640x480 with 1 Axes>"
            ]
          },
          "metadata": {},
          "output_type": "display_data"
        }
      ],
      "source": [
        "import matplotlib.pyplot as plt\n",
        "import numpy as np\n",
        "\n",
        "num_nodes = data.num_nodes  # Get the number of nodes\n",
        "test_mask = torch.zeros(num_nodes, dtype=torch.bool)  # Create a mask of all zeros\n",
        "test_mask[:] = 1  # Set the last 20% of the mask to 1\n",
        "data.test_mask = test_mask  # Add the test mask to the data object\n",
        "\n",
        "\n",
        "# Switch model to evaluation mode\n",
        "model.eval()\n",
        "\n",
        "# Make predictions\n",
        "_, pred = model(data).max(dim=1)\n",
        "\n",
        "# Calculate accuracy\n",
        "correct = float(pred[data.test_mask].eq(data.y[data.test_mask]).sum().item())\n",
        "acc = correct / data.test_mask.sum().item()\n",
        "print('Accuracy: {:.4f}'.format(acc))\n",
        "\n",
        "# # Visualization\n",
        "colors = ['orange', 'blue', 'green']\n",
        "\n",
        "# Get the embeddings of the graph\n",
        "embeddings = model.conv1(data.x, data.edge_index).detach().cpu().numpy()\n",
        "\n",
        "# Create a scatter plot\n",
        "for i in range(dataset.num_classes):\n",
        "    class_indices = (pred == i).detach().cpu().nonzero().numpy().flatten()\n",
        "    plt.scatter(embeddings[class_indices, 0], embeddings[class_indices, 1], color=colors[i % len(colors)])\n",
        "\n",
        "plt.show()\n"
      ]
    }
  ],
  "metadata": {
    "accelerator": "GPU",
    "colab": {
      "machine_shape": "hm",
      "provenance": [],
      "toc_visible": true
    },
    "kernelspec": {
      "display_name": "Python 3",
      "language": "python",
      "name": "python3"
    },
    "language_info": {
      "codemirror_mode": {
        "name": "ipython",
        "version": 3
      },
      "file_extension": ".py",
      "mimetype": "text/x-python",
      "name": "python",
      "nbconvert_exporter": "python",
      "pygments_lexer": "ipython3",
      "version": "3.10.11"
    }
  },
  "nbformat": 4,
  "nbformat_minor": 0
}

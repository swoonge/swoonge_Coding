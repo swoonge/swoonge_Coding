{
  "cells": [
    {
      "attachments": {},
      "cell_type": "markdown",
      "metadata": {},
      "source": [
        "PyTorch Geometric의 `Data` 객체는 그래프 데이터를 표현하는 데 사용되며, 다음과 같은 메소드를 가지고 있습니다:\n",
        "\n",
        "1. `__init__`: 객체를 초기화하는 메소드입니다. 이 메소드는 `Data` 객체가 생성될 때 자동으로 호출됩니다.\n",
        "\n",
        "2. `num_nodes`: 그래프의 노드 수를 반환하는 메소드입니다.\n",
        "\n",
        "3. `num_edges`: 그래프의 엣지 수를 반환하는 메소드입니다.\n",
        "\n",
        "4. `num_faces`: 그래프의 면 수를 반환하는 메소드입니다.\n",
        "\n",
        "5. `num_features`: 그래프의 특징 수를 반환하는 메소드입니다.\n",
        "\n",
        "6. `contains_isolated_nodes`: 그래프가 고립된 노드를 포함하는지 여부를 반환하는 메소드입니다.\n",
        "\n",
        "7. `contains_self_loops`: 그래프가 자기 루프를 포함하는지 여부를 반환하는 메소드입니다.\n",
        "\n",
        "8. `is_directed`: 그래프가 방향성을 가지는지 여부를 반환하는 메소드입니다.\n",
        "\n",
        "9. `is_undirected`: 그래프가 방향성을 가지지 않는지 여부를 반환하는 메소드입니다.\n",
        "\n",
        "10. `apply`: 그래프의 노드, 엣지, 면, 특징에 함수를 적용하는 메소드입니다.\n",
        "\n",
        "11. `to`: 데이터를 특정 장치로 이동하는 메소드입니다.\n",
        "\n",
        "12. `clone`: `Data` 객체의 복제본을 생성하는 메소드입니다.\n",
        "\n",
        "13. `__cat_dim__`: 특정 키에 대한 연결 차원을 반환하는 메소드입니다.\n",
        "\n",
        "14. `__inc__`: 특정 키에 대한 증가 차원을 반환하는 메소드입니다.\n",
        "\n",
        "15. `__getitem__`: 특정 키의 값을 가져오는 메소드입니다.\n",
        "\n",
        "16. `__setitem__`: 특정 키의 값을 설정하는 메소드입니다.\n",
        "\n",
        "17. `__len__`: `Data` 객체의 길이를 반환하는 메소드입니다.\n",
        "\n",
        "18. `__contains__`: `Data` 객체가 특정 키를 포함하는지 여부를 반환하는 메소드입니다.\n",
        "\n",
        "19. `__iter__`: `Data` 객체의 반복자를 반환하는 메소드입니다.\n",
        "\n",
        "20. `__call__`: `Data` 객체를 호출하는 메소드입니다.\n",
        "\n",
        "21. `__repr__`: `Data` 객체의 문자열 표현을 반환하는 메소드입니다.\n",
        "\n",
        "이러한 메소드들은 그래프 데이터를 다루는 데 필요한 기본적인 연산을 제공합니다. 각 메소드의 사용법은 PyTorch Geometric의 공식 문서나 해당 메소드에 대한 도움말을 참조하시면 됩니다.\n",
        "$$\n",
        "m_{i \\rightarrow j}(Y_j)=\\sum_{Y_i \\in \\mathcal{L}}\\psi (Y_i, Y_j) \\phi_i(Y_i) \\Pi_{k \\in N_i \\backslash j}m_{k \\rightarrow i}(Y_i)\\forall Y_j \\in \\mathcal{L}\n",
        "$$"
      ]
    },
    {
      "cell_type": "code",
      "execution_count": 1,
      "metadata": {},
      "outputs": [],
      "source": [
        "import torch\n",
        "from torch_geometric.nn import GCNConv\n",
        "from torch_geometric.datasets import KarateClub\n",
        "import torch.nn.functional as F\n",
        "\n",
        "# Load the Karate Club dataset\n",
        "dataset = KarateClub()\n",
        "data = dataset[0]  # Get the first graph object"
      ]
    },
    {
      "cell_type": "code",
      "execution_count": 2,
      "metadata": {},
      "outputs": [],
      "source": [
        "# Define the GNN model\n",
        "class Net(torch.nn.Module):\n",
        "    def __init__(self):\n",
        "        super(Net, self).__init__()\n",
        "        self.conv1 = GCNConv(dataset.num_features, 16)\n",
        "        self.conv2 = GCNConv(16, dataset.num_classes)\n",
        "\n",
        "    def forward(self, data):\n",
        "        x, edge_index = data.x, data.edge_index\n",
        "        \n",
        "        x = self.conv1(x, edge_index)\n",
        "        x = F.relu(x)\n",
        "        x = F.dropout(x, p=0.5, training=self.training)  # specify the dropout rate\n",
        "        x = self.conv2(x, edge_index)\n",
        "\n",
        "        return F.log_softmax(x, dim=1)"
      ]
    },
    {
      "cell_type": "code",
      "execution_count": 3,
      "metadata": {},
      "outputs": [],
      "source": [
        "# Instantiate the model and optimizer\n",
        "model = Net()\n",
        "optimizer = torch.optim.Adam(model.parameters(), lr=0.01, weight_decay=5e-4)"
      ]
    },
    {
      "cell_type": "code",
      "execution_count": 4,
      "metadata": {},
      "outputs": [],
      "source": [
        "# Training loop\n",
        "model.train()\n",
        "for epoch in range(100000):\n",
        "    optimizer.zero_grad()\n",
        "    out = model(data)\n",
        "    loss = torch.nn.functional.nll_loss(out[data.train_mask], data.y[data.train_mask])\n",
        "    loss.backward()\n",
        "    optimizer.step()"
      ]
    },
    {
      "cell_type": "code",
      "execution_count": 7,
      "metadata": {},
      "outputs": [
        {
          "name": "stdout",
          "output_type": "stream",
          "text": [
            "Accuracy: 0.6176\n"
          ]
        },
        {
          "ename": "IndexError",
          "evalue": "list index out of range",
          "output_type": "error",
          "traceback": [
            "\u001b[0;31m---------------------------------------------------------------------------\u001b[0m",
            "\u001b[0;31mIndexError\u001b[0m                                Traceback (most recent call last)",
            "Cell \u001b[0;32mIn[7], line 30\u001b[0m\n\u001b[1;32m     28\u001b[0m \u001b[39mfor\u001b[39;00m i \u001b[39min\u001b[39;00m \u001b[39mrange\u001b[39m(dataset\u001b[39m.\u001b[39mnum_classes):\n\u001b[1;32m     29\u001b[0m     class_indices \u001b[39m=\u001b[39m (pred \u001b[39m==\u001b[39m i)\u001b[39m.\u001b[39mnonzero()\u001b[39m.\u001b[39mnumpy()\u001b[39m.\u001b[39mflatten()\n\u001b[0;32m---> 30\u001b[0m     plt\u001b[39m.\u001b[39mscatter(embeddings[class_indices, \u001b[39m0\u001b[39m], embeddings[class_indices, \u001b[39m1\u001b[39m], color\u001b[39m=\u001b[39mcolors[i])\n\u001b[1;32m     32\u001b[0m plt\u001b[39m.\u001b[39mshow()\n",
            "\u001b[0;31mIndexError\u001b[0m: list index out of range"
          ]
        },
        {
          "data": {
            "image/png": "[encoded data removed]",
            "text/plain": [
              "<Figure size 640x480 with 1 Axes>"
            ]
          },
          "metadata": {},
          "output_type": "display_data"
        }
      ],
      "source": [
        "import matplotlib.pyplot as plt\n",
        "import numpy as np\n",
        "\n",
        "num_nodes = data.num_nodes  # Get the number of nodes\n",
        "test_mask = torch.zeros(num_nodes, dtype=torch.bool)  # Create a mask of all zeros\n",
        "test_mask[-int(num_nodes):] = 1  # Set the last 20% of the mask to 1\n",
        "data.test_mask = test_mask  # Add the test mask to the data object\n",
        "\n",
        "\n",
        "# Switch model to evaluation mode\n",
        "model.eval()\n",
        "\n",
        "# Make predictions\n",
        "_, pred = model(data).max(dim=1)\n",
        "\n",
        "# Calculate accuracy\n",
        "correct = float(pred[data.test_mask].eq(data.y[data.test_mask]).sum().item())\n",
        "acc = correct / data.test_mask.sum().item()\n",
        "print('Accuracy: {:.4f}'.format(acc))\n",
        "\n",
        "# Visualization\n",
        "colors = ['orange', 'blue', 'green']\n",
        "\n",
        "# Get the embeddings of the graph\n",
        "embeddings = model.conv1(data.x, data.edge_index).detach().numpy()\n",
        "\n",
        "# Create a scatter plot\n",
        "for i in range(dataset.num_classes):\n",
        "    class_indices = (pred == i).nonzero().numpy().flatten()\n",
        "    plt.scatter(embeddings[class_indices, 0], embeddings[class_indices, 1], color=colors[i])\n",
        "\n",
        "plt.show()\n"
      ]
    },
    {
      "cell_type": "code",
      "execution_count": null,
      "metadata": {},
      "outputs": [],
      "source": []
    }
  ],
  "metadata": {
    "accelerator": "GPU",
    "colab": {
      "machine_shape": "hm",
      "provenance": [],
      "toc_visible": true
    },
    "kernelspec": {
      "display_name": "Python 3",
      "language": "python",
      "name": "python3"
    },
    "language_info": {
      "codemirror_mode": {
        "name": "ipython",
        "version": 3
      },
      "file_extension": ".py",
      "mimetype": "text/x-python",
      "name": "python",
      "nbconvert_exporter": "python",
      "pygments_lexer": "ipython3",
      "version": "3.10.11"
    }
  },
  "nbformat": 4,
  "nbformat_minor": 0
}

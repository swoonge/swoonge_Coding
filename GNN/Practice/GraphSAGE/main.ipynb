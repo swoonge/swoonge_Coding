{
 "cells": [
  {
   "attachments": {},
   "cell_type": "markdown",
   "metadata": {},
   "source": [
    "https://velog.io/@soyoungcho/GNN-GCN-GraphSAGE-GAT-%EA%B0%84%EB%8B%A8-%EC%A0%95%EB%A6%AC\n",
    "\n",
    "https://greeksharifa.github.io/machine_learning/2020/12/31/Graph-Sage/\n",
    "\n",
    "https://github.com/twjiang/graphSAGE-pytorch/tree/master"
   ]
  }
 ],
 "metadata": {
  "kernelspec": {
   "display_name": "cs224w",
   "language": "python",
   "name": "python3"
  },
  "language_info": {
   "codemirror_mode": {
    "name": "ipython",
    "version": 3
   },
   "file_extension": ".py",
   "mimetype": "text/x-python",
   "name": "python",
   "nbconvert_exporter": "python",
   "pygments_lexer": "ipython3",
   "version": "3.10.11"
  },
  "orig_nbformat": 4
 },
 "nbformat": 4,
 "nbformat_minor": 2
}

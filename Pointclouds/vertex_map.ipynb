{
 "cells": [
  {
   "cell_type": "code",
   "execution_count": 2,
   "metadata": {},
   "outputs": [
    {
     "name": "stdout",
     "output_type": "stream",
     "text": [
      "Jupyter environment detected. Enabling Open3D WebVisualizer.\n",
      "[Open3D INFO] WebRTC GUI backend enabled.\n",
      "[Open3D INFO] WebRTCWindowSystem: HTTP handshake server disabled.\n"
     ]
    }
   ],
   "source": [
    "import open3d as o3d\n",
    "import numpy as np"
   ]
  },
  {
   "cell_type": "code",
   "execution_count": 3,
   "metadata": {},
   "outputs": [],
   "source": [
    "\n",
    "# point cloud 데이터를 읽어옴\n",
    "pcd = o3d.io.read_point_cloud(\"./chair.ply\")\n",
    "\n",
    "# voxel downsampling을 수행하여 데이터를 축소함\n",
    "downpcd = pcd.voxel_down_sample(voxel_size=0.05)\n",
    "\n",
    "# point cloud 데이터의 색상 정보를 np.ndarray 형식으로 변환함\n",
    "colors = np.asarray(downpcd.colors)\n",
    "\n",
    "# 색상 정보에 255를 곱한 후, 다시 o3d.cuda.pybind.utility.Vector3dVector 형식으로 변환함\n",
    "downpcd.colors = o3d.cuda.pybind.utility.Vector3dVector((colors * 255).astype(np.uint8))\n",
    "\n",
    "# point cloud 데이터와 함께 vertex map을 시각화함\n",
    "# visualizer = o3d.visualization.Visualizer()\n",
    "# visualizer.create_window()\n",
    "# visualizer.add_geometry(downpcd)\n",
    "# visualizer.run()"
   ]
  },
  {
   "cell_type": "code",
   "execution_count": 19,
   "metadata": {},
   "outputs": [
    {
     "name": "stdout",
     "output_type": "stream",
     "text": [
      "point position: [-182.30979919 -212.61180115 -360.99911499]\n"
     ]
    }
   ],
   "source": [
    "point_index = 0\n",
    "point = downpcd.points[point_index]\n",
    "# color = downpcd.colors[point_index]\n",
    "print(f\"point position: {point}\")\n",
    "# print(f\"point color: {color}\")"
   ]
  },
  {
   "cell_type": "code",
   "execution_count": null,
   "metadata": {},
   "outputs": [],
   "source": []
  }
 ],
 "metadata": {
  "kernelspec": {
   "display_name": "py39",
   "language": "python",
   "name": "python3"
  },
  "language_info": {
   "codemirror_mode": {
    "name": "ipython",
    "version": 3
   },
   "file_extension": ".py",
   "mimetype": "text/x-python",
   "name": "python",
   "nbconvert_exporter": "python",
   "pygments_lexer": "ipython3",
   "version": "3.9.16"
  },
  "orig_nbformat": 4
 },
 "nbformat": 4,
 "nbformat_minor": 2
}

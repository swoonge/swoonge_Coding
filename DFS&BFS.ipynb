{
 "cells": [
  {
   "attachments": {},
   "cell_type": "markdown",
   "metadata": {},
   "source": [
    "깊이 우선 탐색(DFS) 과 너비 우선 탐색(BFS)\n",
    "https://velog.io/@cha-suyeon/%EC%95%8C%EA%B3%A0%EB%A6%AC%EC%A6%98-%EA%B9%8A%EC%9D%B4-%EC%9A%B0%EC%84%A0-%ED%83%90%EC%83%89DFS-%EA%B3%BC-%EB%84%88%EB%B9%84-%EC%9A%B0%EC%84%A0-%ED%83%90%EC%83%89BFS"
   ]
  },
  {
   "attachments": {},
   "cell_type": "markdown",
   "metadata": {},
   "source": [
    "DFS는 깊이 우선 탐색이라고 부르며 그래프에서 깊은 부분을 우선적으로 탐색하는 알고리즘입니다.\n",
    "\n",
    "DFS는 스택 자료구조(혹은 재귀함수)를 이용하며, 구체적인 동작 과정은 다음과 같습니다.\n",
    "\n",
    "1. 탐색 시작 노드를 스택에 삽입하고 방문 처리합니다.\n",
    "2. 스택의 최상단 노드에 방문하지 않은 인접한 노드가 하나라도 있으면 그 노드를 스택에 넣고 방문 처리합니다. 방문하지 않은 인접 노드가 없으면 스택에서 최상단 노드를 꺼냅니다.\n",
    "3. 더 이상 2번의 과정을 수행할 수 없을 때까지 반복합니다."
   ]
  },
  {
   "cell_type": "code",
   "execution_count": 1,
   "metadata": {},
   "outputs": [
    {
     "name": "stdout",
     "output_type": "stream",
     "text": [
      "1 2 7 6 8 3 4 5 "
     ]
    }
   ],
   "source": [
    "# DFS 메서드 정의\n",
    "def dfs(graph, v, visited):\n",
    "    # 현재 노드를 방문 처리\n",
    "    visited[v] = True\n",
    "    print(v, end=' ')\n",
    "    # 현재 노드와 연결된 다른 노드를 재귀적으로 방문\n",
    "    for i in graph[v]: # 1번 노드부터 확인 -> 인접 노드 중 가장 작은 노드를 검색하기 위함\n",
    "        if not visited[i]: # -> 방문 안한 노드 중에서\n",
    "            dfs(graph, i, visited) # -> 있으면 i노드로 이동 후 반복\n",
    "\n",
    "# 각 노드가 연결된 정보를 표현(2차원 리스트)\n",
    "graph = [\n",
    "    [],\n",
    "    [2,3,8], # 1번 노드와 연결\n",
    "    [1,7], # 2번 노드와 연결\n",
    "    [1,4,5], # ...\n",
    "    [3,5],\n",
    "    [3,4],\n",
    "    [7],\n",
    "    [2,6,8],\n",
    "    [1,7]\n",
    "]\n",
    "\n",
    "# 각 노드가 방문된 정보를 표현 (1차원 리스트)\n",
    "visited = [False] * 9\n",
    "\n",
    "# 정의된 DFS 함수 호출\n",
    "dfs(graph, 1, visited)"
   ]
  },
  {
   "cell_type": "code",
   "execution_count": 32,
   "metadata": {},
   "outputs": [
    {
     "name": "stdout",
     "output_type": "stream",
     "text": [
      "0 0 0 0 0 0 0 0 0\n",
      "0 0 1 1 0 0 0 0 1\n",
      "0 1 0 0 0 0 0 1 0\n",
      "0 1 0 0 1 1 0 0 0\n",
      "0 0 0 1 0 1 0 0 0\n",
      "0 0 0 1 1 0 0 0 0\n",
      "0 0 0 0 0 0 0 1 0\n",
      "0 0 1 0 0 0 1 0 1\n",
      "0 1 0 0 0 0 0 1 0\n"
     ]
    }
   ],
   "source": [
    "graph = [\n",
    "    [],\n",
    "    [2,3,8], # 1번 노드와 연결\n",
    "    [1,7], # 2번 노드와 연결\n",
    "    [1,4,5], # ...\n",
    "    [3,5],\n",
    "    [3,4],\n",
    "    [7],\n",
    "    [2,6,8],\n",
    "    [1,7]\n",
    "]\n",
    "\n",
    "adjacencyMatrix = [[0 for _ in range(len(graph))] for _ in range(len(graph))]\n",
    "for idx, n in enumerate(graph):\n",
    "    for m in n:\n",
    "        adjacencyMatrix[idx][int(m)] = 1\n",
    "\n",
    "for amatrix in adjacencyMatrix:\n",
    "    print(*amatrix)"
   ]
  },
  {
   "cell_type": "code",
   "execution_count": 34,
   "metadata": {},
   "outputs": [
    {
     "name": "stdout",
     "output_type": "stream",
     "text": [
      "5 3 1 2 7 6 8 4 "
     ]
    }
   ],
   "source": [
    "visited = [False for _ in range(len(graph))]\n",
    "def dfs(vnode, graph, visited):\n",
    "    # 현재 노드를 방문 처리\n",
    "    visited[vnode] = True\n",
    "    print(vnode, end=' ')\n",
    "    # 현재 노드와 연결된 다른 노드를 재귀적으로 방문\n",
    "    for idx, i in enumerate(graph[vnode]): # 현재 방문중인 노드의 관계인 행\n",
    "        if (i == 1) and not visited[idx]: # i == 1이면서(인접 노드중) 방분한 적이 없는 노드인 경우\n",
    "            dfs(idx, graph, visited) # 반복해서 탐색\n",
    "\n",
    "dfs(5, adjacencyMatrix, visited)\n"
   ]
  },
  {
   "attachments": {},
   "cell_type": "markdown",
   "metadata": {},
   "source": [
    "BFS(Breadth-First Search)\n",
    "BFS는 너비 우선 탐색이라고도 부르며, 그래프에서 가까운 노드부터 우선적으로 탐색하는 알고리즘입니다.\n",
    "\n",
    "BFS는 큐 자료구조를 이용하며, 구체적인 동작 과정은 다음과 같습니다.\n",
    "\n",
    "탐색 시작 노드를 큐에 삽입하고 방문 처리를 합니다.\n",
    "큐에서 노드를 꺼낸 뒤에 해당 노드의 인접 노드 중에는 방문하지 않은 노드를 모두 큐에 삽입하고 방문 처리합니다.\n",
    "더 이상 2번의 과정을 수행할 수 없을 때까지 반복합니다."
   ]
  },
  {
   "cell_type": "code",
   "execution_count": 35,
   "metadata": {},
   "outputs": [
    {
     "name": "stdout",
     "output_type": "stream",
     "text": [
      "0 0 0 0 0 0 0 0 0\n",
      "0 0 1 1 0 0 0 0 1\n",
      "0 1 0 0 0 0 0 1 0\n",
      "0 1 0 0 1 1 0 0 0\n",
      "0 0 0 1 0 1 0 0 0\n",
      "0 0 0 1 1 0 0 0 0\n",
      "0 0 0 0 0 0 0 1 0\n",
      "0 0 1 0 0 0 1 0 1\n",
      "0 1 0 0 0 0 0 1 0\n"
     ]
    }
   ],
   "source": [
    "graph = [\n",
    "    [],\n",
    "    [2,3,8], # 1번 노드와 연결\n",
    "    [1,7], # 2번 노드와 연결\n",
    "    [1,4,5], # ...\n",
    "    [3,5],\n",
    "    [3,4],\n",
    "    [7],\n",
    "    [2,6,8],\n",
    "    [1,7]\n",
    "]\n",
    "\n",
    "adjacencyMatrix = [[0 for _ in range(len(graph))] for _ in range(len(graph))]\n",
    "for idx, n in enumerate(graph):\n",
    "    for m in n:\n",
    "        adjacencyMatrix[idx][int(m)] = 1\n",
    "\n",
    "for amatrix in adjacencyMatrix:\n",
    "    print(*amatrix)"
   ]
  },
  {
   "cell_type": "code",
   "execution_count": 42,
   "metadata": {},
   "outputs": [
    {
     "name": "stdout",
     "output_type": "stream",
     "text": [
      "1 [2, 3, 8]\n",
      "2 [3, 8, 7]\n",
      "3 [8, 7, 4, 5]\n",
      "8 [7, 4, 5]\n",
      "7 [4, 5, 6]\n",
      "4 [5, 6]\n",
      "5 [6]\n",
      "6 []\n"
     ]
    }
   ],
   "source": [
    "visited = [False for _ in range(len(graph))]\n",
    "\n",
    "def bfs(sNode, graph, visited):\n",
    "    queue = []\n",
    "    queue.append(sNode)\n",
    "\n",
    "    while queue:\n",
    "        visited[queue[0]] = True\n",
    "        print(queue[0], end=' ')\n",
    "        for idx, i in enumerate(graph[queue[0]]):\n",
    "            if (i == 1) and (idx not in queue) and (not visited[idx]):\n",
    "                queue.append(idx)\n",
    "        queue = queue[1:]\n",
    "        print(queue)\n",
    "\n",
    "bfs(1, adjacencyMatrix, visited)"
   ]
  }
 ],
 "metadata": {
  "kernelspec": {
   "display_name": "bj",
   "language": "python",
   "name": "python3"
  },
  "language_info": {
   "codemirror_mode": {
    "name": "ipython",
    "version": 3
   },
   "file_extension": ".py",
   "mimetype": "text/x-python",
   "name": "python",
   "nbconvert_exporter": "python",
   "pygments_lexer": "ipython3",
   "version": "3.9.16"
  },
  "orig_nbformat": 4
 },
 "nbformat": 4,
 "nbformat_minor": 2
}

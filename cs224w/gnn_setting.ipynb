{
 "cells": [
  {
   "cell_type": "code",
   "execution_count": 1,
   "metadata": {},
   "outputs": [
    {
     "ename": "ModuleNotFoundError",
     "evalue": "No module named 'torch'",
     "output_type": "error",
     "traceback": [
      "\u001b[0;31m---------------------------------------------------------------------------\u001b[0m",
      "\u001b[0;31mModuleNotFoundError\u001b[0m                       Traceback (most recent call last)",
      "Cell \u001b[0;32mIn[1], line 1\u001b[0m\n\u001b[0;32m----> 1\u001b[0m \u001b[39mimport\u001b[39;00m \u001b[39mtorch\u001b[39;00m\n\u001b[1;32m      2\u001b[0m \u001b[39mprint\u001b[39m(torch\u001b[39m.\u001b[39m__version__)\n\u001b[1;32m      3\u001b[0m \u001b[39mprint\u001b[39m(torch\u001b[39m.\u001b[39mversion\u001b[39m.\u001b[39mcuda)\n",
      "\u001b[0;31mModuleNotFoundError\u001b[0m: No module named 'torch'"
     ]
    }
   ],
   "source": [
    "import torch\n",
    "print(torch.__version__)\n",
    "print(torch.version.cuda)"
   ]
  },
  {
   "cell_type": "code",
   "execution_count": 10,
   "metadata": {},
   "outputs": [],
   "source": [
    "# Helper function for visualization.\n",
    "import torch\n",
    "import matplotlib.pyplot as plt\n",
    "\n",
    "# Visualization function for NX graph or PyTorch tensor\n",
    "def visualize(h, color, epoch=None, loss=None):\n",
    "    plt.figure(figsize=(7,7))\n",
    "    plt.xticks([])\n",
    "    plt.yticks([])\n",
    "\n",
    "    if torch.is_tensor(h):\n",
    "        h = h.detach().cpu().numpy()\n",
    "        plt.scatter(h[:, 0], h[:, 1], s=140, c=color, cmap=\"Set2\")\n",
    "        if epoch is not None and loss is not None:\n",
    "            plt.xlabel(f'Epoch: {epoch}, Loss: {loss.item():.4f}', fontsize=16)\n",
    "    plt.show()"
   ]
  },
  {
   "cell_type": "code",
   "execution_count": 11,
   "metadata": {},
   "outputs": [
    {
     "name": "stdout",
     "output_type": "stream",
     "text": [
      "Dataset: KarateClub():\n",
      "======================\n",
      "Number of graphs: 1\n",
      "Number of features: 34\n",
      "Number of classes: 4\n"
     ]
    }
   ],
   "source": [
    "from torch_geometric.datasets import KarateClub\n",
    "\n",
    "dataset = KarateClub()\n",
    "print(f'Dataset: {dataset}:')\n",
    "print('======================')\n",
    "print(f'Number of graphs: {len(dataset)}')\n",
    "print(f'Number of features: {dataset.num_features}')\n",
    "print(f'Number of classes: {dataset.num_classes}')"
   ]
  },
  {
   "cell_type": "code",
   "execution_count": 6,
   "metadata": {},
   "outputs": [
    {
     "name": "stdout",
     "output_type": "stream",
     "text": [
      "Data(x=[34, 34], edge_index=[2, 156], y=[34], train_mask=[34])\n",
      "==============================================================\n",
      "Number of nodes: 34\n",
      "Number of edges: 156\n",
      "Average node degree: 4.59\n",
      "Number of training nodes: 4\n",
      "Training node label rate: 0.12\n",
      "Contains isolated nodes: False\n",
      "Contains self-loops: False\n",
      "Is undirected: True\n"
     ]
    },
    {
     "name": "stderr",
     "output_type": "stream",
     "text": [
      "/home/vision/anaconda3/envs/gnn/lib/python3.9/site-packages/torch_geometric/deprecation.py:22: UserWarning: 'contains_isolated_nodes' is deprecated, use 'has_isolated_nodes' instead\n",
      "  warnings.warn(out)\n",
      "/home/vision/anaconda3/envs/gnn/lib/python3.9/site-packages/torch_geometric/deprecation.py:22: UserWarning: 'contains_self_loops' is deprecated, use 'has_self_loops' instead\n",
      "  warnings.warn(out)\n"
     ]
    }
   ],
   "source": [
    "data = dataset[0]  # Get the first graph object.\n",
    "\n",
    "print(data)\n",
    "print('==============================================================')\n",
    "\n",
    "# Gather some statistics about the graph.\n",
    "print(f'Number of nodes: {data.num_nodes}')\n",
    "print(f'Number of edges: {data.num_edges}')\n",
    "print(f'Average node degree: {data.num_edges / data.num_nodes:.2f}')\n",
    "print(f'Number of training nodes: {data.train_mask.sum()}')\n",
    "print(f'Training node label rate: {int(data.train_mask.sum()) / data.num_nodes:.2f}')\n",
    "print(f'Contains isolated nodes: {data.contains_isolated_nodes()}')\n",
    "print(f'Contains self-loops: {data.contains_self_loops()}')\n",
    "print(f'Is undirected: {data.is_undirected()}')"
   ]
  },
  {
   "cell_type": "code",
   "execution_count": 9,
   "metadata": {},
   "outputs": [
    {
     "data": {
      "application/javascript": "google.colab.output.setIframeHeight(0, true, {maxHeight: 300})",
      "text/plain": [
       "<IPython.core.display.Javascript object>"
      ]
     },
     "metadata": {},
     "output_type": "display_data"
    },
    {
     "name": "stdout",
     "output_type": "stream",
     "text": [
      "tensor([[ 0,  1],\n",
      "        [ 0,  2],\n",
      "        [ 0,  3],\n",
      "        [ 0,  4],\n",
      "        [ 0,  5],\n",
      "        [ 0,  6],\n",
      "        [ 0,  7],\n",
      "        [ 0,  8],\n",
      "        [ 0, 10],\n",
      "        [ 0, 11],\n",
      "        [ 0, 12],\n",
      "        [ 0, 13],\n",
      "        [ 0, 17],\n",
      "        [ 0, 19],\n",
      "        [ 0, 21],\n",
      "        [ 0, 31],\n",
      "        [ 1,  0],\n",
      "        [ 1,  2],\n",
      "        [ 1,  3],\n",
      "        [ 1,  7],\n",
      "        [ 1, 13],\n",
      "        [ 1, 17],\n",
      "        [ 1, 19],\n",
      "        [ 1, 21],\n",
      "        [ 1, 30],\n",
      "        [ 2,  0],\n",
      "        [ 2,  1],\n",
      "        [ 2,  3],\n",
      "        [ 2,  7],\n",
      "        [ 2,  8],\n",
      "        [ 2,  9],\n",
      "        [ 2, 13],\n",
      "        [ 2, 27],\n",
      "        [ 2, 28],\n",
      "        [ 2, 32],\n",
      "        [ 3,  0],\n",
      "        [ 3,  1],\n",
      "        [ 3,  2],\n",
      "        [ 3,  7],\n",
      "        [ 3, 12],\n",
      "        [ 3, 13],\n",
      "        [ 4,  0],\n",
      "        [ 4,  6],\n",
      "        [ 4, 10],\n",
      "        [ 5,  0],\n",
      "        [ 5,  6],\n",
      "        [ 5, 10],\n",
      "        [ 5, 16],\n",
      "        [ 6,  0],\n",
      "        [ 6,  4],\n",
      "        [ 6,  5],\n",
      "        [ 6, 16],\n",
      "        [ 7,  0],\n",
      "        [ 7,  1],\n",
      "        [ 7,  2],\n",
      "        [ 7,  3],\n",
      "        [ 8,  0],\n",
      "        [ 8,  2],\n",
      "        [ 8, 30],\n",
      "        [ 8, 32],\n",
      "        [ 8, 33],\n",
      "        [ 9,  2],\n",
      "        [ 9, 33],\n",
      "        [10,  0],\n",
      "        [10,  4],\n",
      "        [10,  5],\n",
      "        [11,  0],\n",
      "        [12,  0],\n",
      "        [12,  3],\n",
      "        [13,  0],\n",
      "        [13,  1],\n",
      "        [13,  2],\n",
      "        [13,  3],\n",
      "        [13, 33],\n",
      "        [14, 32],\n",
      "        [14, 33],\n",
      "        [15, 32],\n",
      "        [15, 33],\n",
      "        [16,  5],\n",
      "        [16,  6],\n",
      "        [17,  0],\n",
      "        [17,  1],\n",
      "        [18, 32],\n",
      "        [18, 33],\n",
      "        [19,  0],\n",
      "        [19,  1],\n",
      "        [19, 33],\n",
      "        [20, 32],\n",
      "        [20, 33],\n",
      "        [21,  0],\n",
      "        [21,  1],\n",
      "        [22, 32],\n",
      "        [22, 33],\n",
      "        [23, 25],\n",
      "        [23, 27],\n",
      "        [23, 29],\n",
      "        [23, 32],\n",
      "        [23, 33],\n",
      "        [24, 25],\n",
      "        [24, 27],\n",
      "        [24, 31],\n",
      "        [25, 23],\n",
      "        [25, 24],\n",
      "        [25, 31],\n",
      "        [26, 29],\n",
      "        [26, 33],\n",
      "        [27,  2],\n",
      "        [27, 23],\n",
      "        [27, 24],\n",
      "        [27, 33],\n",
      "        [28,  2],\n",
      "        [28, 31],\n",
      "        [28, 33],\n",
      "        [29, 23],\n",
      "        [29, 26],\n",
      "        [29, 32],\n",
      "        [29, 33],\n",
      "        [30,  1],\n",
      "        [30,  8],\n",
      "        [30, 32],\n",
      "        [30, 33],\n",
      "        [31,  0],\n",
      "        [31, 24],\n",
      "        [31, 25],\n",
      "        [31, 28],\n",
      "        [31, 32],\n",
      "        [31, 33],\n",
      "        [32,  2],\n",
      "        [32,  8],\n",
      "        [32, 14],\n",
      "        [32, 15],\n",
      "        [32, 18],\n",
      "        [32, 20],\n",
      "        [32, 22],\n",
      "        [32, 23],\n",
      "        [32, 29],\n",
      "        [32, 30],\n",
      "        [32, 31],\n",
      "        [32, 33],\n",
      "        [33,  8],\n",
      "        [33,  9],\n",
      "        [33, 13],\n",
      "        [33, 14],\n",
      "        [33, 15],\n",
      "        [33, 18],\n",
      "        [33, 19],\n",
      "        [33, 20],\n",
      "        [33, 22],\n",
      "        [33, 23],\n",
      "        [33, 26],\n",
      "        [33, 27],\n",
      "        [33, 28],\n",
      "        [33, 29],\n",
      "        [33, 30],\n",
      "        [33, 31],\n",
      "        [33, 32]])\n"
     ]
    }
   ],
   "source": [
    "# Data(edge_index=[2, 156], x=[34, 34], y=[34], train_mask=[34])\n",
    "from IPython.display import Javascript  # Restrict height of output cell.\n",
    "display(Javascript('''google.colab.output.setIframeHeight(0, true, {maxHeight: 300})'''))\n",
    "\n",
    "edge_index = data.edge_index\n",
    "print(edge_index.t())"
   ]
  },
  {
   "cell_type": "code",
   "execution_count": 1,
   "metadata": {},
   "outputs": [
    {
     "name": "stdout",
     "output_type": "stream",
     "text": [
      "tensor(1.)\n",
      "tensor(4.)\n",
      "tensor(5.)\n"
     ]
    }
   ],
   "source": [
    "import torch\n",
    "import collections\n",
    "\n",
    "class TensorDeck:\n",
    "    def __init__(self, tensor):\n",
    "        self.tensor = tensor\n",
    "        self.indices = collections.deque(range(len(tensor)))\n",
    "\n",
    "    def pop_left(self):\n",
    "        index = self.indices.popleft()\n",
    "        return self.tensor[index]\n",
    "\n",
    "    def pop_right(self):\n",
    "        index = self.indices.pop()\n",
    "        return self.tensor[index]\n",
    "\n",
    "    def append_left(self, value):\n",
    "        self.indices.appendleft(len(self.tensor))\n",
    "        self.tensor = torch.cat([self.tensor, value.unsqueeze(0)])\n",
    "\n",
    "    def append_right(self, value):\n",
    "        self.indices.append(len(self.tensor))\n",
    "        self.tensor = torch.cat([self.tensor, value.unsqueeze(0)])\n",
    "\n",
    "# Usage:\n",
    "deck = TensorDeck(torch.tensor([1.0, 2.0, 3.0, 4.0]))\n",
    "print(deck.pop_left())  # prints tensor(1.)\n",
    "print(deck.pop_right())  # prints tensor(4.)\n",
    "deck.append_left(torch.tensor(5.0))\n",
    "print(deck.pop_left())  # prints tensor(5.)"
   ]
  },
  {
   "cell_type": "code",
   "execution_count": 5,
   "metadata": {},
   "outputs": [
    {
     "ename": "TypeError",
     "evalue": "'TensorDeck' object is not iterable",
     "output_type": "error",
     "traceback": [
      "\u001b[0;31m---------------------------------------------------------------------------\u001b[0m",
      "\u001b[0;31mTypeError\u001b[0m                                 Traceback (most recent call last)",
      "Cell \u001b[0;32mIn[5], line 1\u001b[0m\n\u001b[0;32m----> 1\u001b[0m \u001b[39mprint\u001b[39m(\u001b[39mlist\u001b[39;49m(deck))\n",
      "\u001b[0;31mTypeError\u001b[0m: 'TensorDeck' object is not iterable"
     ]
    }
   ],
   "source": []
  },
  {
   "cell_type": "code",
   "execution_count": null,
   "metadata": {},
   "outputs": [],
   "source": []
  }
 ],
 "metadata": {
  "kernelspec": {
   "display_name": "gnn",
   "language": "python",
   "name": "python3"
  },
  "language_info": {
   "codemirror_mode": {
    "name": "ipython",
    "version": 3
   },
   "file_extension": ".py",
   "mimetype": "text/x-python",
   "name": "python",
   "nbconvert_exporter": "python",
   "pygments_lexer": "ipython3",
   "version": "3.10.11"
  },
  "orig_nbformat": 4
 },
 "nbformat": 4,
 "nbformat_minor": 2
}
